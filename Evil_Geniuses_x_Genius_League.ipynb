{
  "nbformat": 4,
  "nbformat_minor": 0,
  "metadata": {
    "colab": {
      "provenance": []
    },
    "kernelspec": {
      "name": "python3",
      "display_name": "Python 3"
    },
    "language_info": {
      "name": "python"
    }
  },
  "cells": [
    {
      "cell_type": "code",
      "execution_count": 172,
      "metadata": {
        "id": "yv3w5K6q5b8y"
      },
      "outputs": [],
      "source": [
        "import pandas as pd\n",
        "import warnings\n",
        "import matplotlib.pyplot as plt\n",
        "# Ignore all warnings\n",
        "warnings.filterwarnings(\"ignore\")\n"
      ]
    },
    {
      "cell_type": "code",
      "source": [
        "social_data_df = pd.read_excel('./social_data.xlsx')"
      ],
      "metadata": {
        "id": "O-4AX7w75s6s"
      },
      "execution_count": 173,
      "outputs": []
    },
    {
      "cell_type": "code",
      "source": [
        "social_data_df.head()"
      ],
      "metadata": {
        "colab": {
          "base_uri": "https://localhost:8080/",
          "height": 206
        },
        "id": "kFfjo3Gd51cf",
        "outputId": "e5581dd1-a322-4b07-bc37-09a4efbafef8"
      },
      "execution_count": 175,
      "outputs": [
        {
          "output_type": "execute_result",
          "data": {
            "text/plain": [
              "           Published Date Account Account Type          Campaign Name  \\\n",
              "0 2023-03-31 19:55:43.192    CSGO      TWITTER                   N/A    \n",
              "1 2023-03-31 19:49:35.243    CSGO      TWITTER                   N/A    \n",
              "2 2023-03-31 19:49:33.535    CSGO      TWITTER                   N/A    \n",
              "3 2023-03-31 19:49:31.583    CSGO      TWITTER                   N/A    \n",
              "4 2023-03-31 19:43:42.590    CSGO      TWITTER  Community Engagement    \n",
              "\n",
              "   Total Impressions  Total Engagements Media Type  \n",
              "0                  0                  0       Text  \n",
              "1                  0                  0       Text  \n",
              "2                  0                  0       Text  \n",
              "3                  0                  0       Text  \n",
              "4               9517               1215      Video  "
            ],
            "text/html": [
              "\n",
              "  <div id=\"df-5bba3ce6-0d59-41cc-8c79-c6b3e4563152\">\n",
              "    <div class=\"colab-df-container\">\n",
              "      <div>\n",
              "<style scoped>\n",
              "    .dataframe tbody tr th:only-of-type {\n",
              "        vertical-align: middle;\n",
              "    }\n",
              "\n",
              "    .dataframe tbody tr th {\n",
              "        vertical-align: top;\n",
              "    }\n",
              "\n",
              "    .dataframe thead th {\n",
              "        text-align: right;\n",
              "    }\n",
              "</style>\n",
              "<table border=\"1\" class=\"dataframe\">\n",
              "  <thead>\n",
              "    <tr style=\"text-align: right;\">\n",
              "      <th></th>\n",
              "      <th>Published Date</th>\n",
              "      <th>Account</th>\n",
              "      <th>Account Type</th>\n",
              "      <th>Campaign Name</th>\n",
              "      <th>Total Impressions</th>\n",
              "      <th>Total Engagements</th>\n",
              "      <th>Media Type</th>\n",
              "    </tr>\n",
              "  </thead>\n",
              "  <tbody>\n",
              "    <tr>\n",
              "      <th>0</th>\n",
              "      <td>2023-03-31 19:55:43.192</td>\n",
              "      <td>CSGO</td>\n",
              "      <td>TWITTER</td>\n",
              "      <td>N/A</td>\n",
              "      <td>0</td>\n",
              "      <td>0</td>\n",
              "      <td>Text</td>\n",
              "    </tr>\n",
              "    <tr>\n",
              "      <th>1</th>\n",
              "      <td>2023-03-31 19:49:35.243</td>\n",
              "      <td>CSGO</td>\n",
              "      <td>TWITTER</td>\n",
              "      <td>N/A</td>\n",
              "      <td>0</td>\n",
              "      <td>0</td>\n",
              "      <td>Text</td>\n",
              "    </tr>\n",
              "    <tr>\n",
              "      <th>2</th>\n",
              "      <td>2023-03-31 19:49:33.535</td>\n",
              "      <td>CSGO</td>\n",
              "      <td>TWITTER</td>\n",
              "      <td>N/A</td>\n",
              "      <td>0</td>\n",
              "      <td>0</td>\n",
              "      <td>Text</td>\n",
              "    </tr>\n",
              "    <tr>\n",
              "      <th>3</th>\n",
              "      <td>2023-03-31 19:49:31.583</td>\n",
              "      <td>CSGO</td>\n",
              "      <td>TWITTER</td>\n",
              "      <td>N/A</td>\n",
              "      <td>0</td>\n",
              "      <td>0</td>\n",
              "      <td>Text</td>\n",
              "    </tr>\n",
              "    <tr>\n",
              "      <th>4</th>\n",
              "      <td>2023-03-31 19:43:42.590</td>\n",
              "      <td>CSGO</td>\n",
              "      <td>TWITTER</td>\n",
              "      <td>Community Engagement</td>\n",
              "      <td>9517</td>\n",
              "      <td>1215</td>\n",
              "      <td>Video</td>\n",
              "    </tr>\n",
              "  </tbody>\n",
              "</table>\n",
              "</div>\n",
              "      <button class=\"colab-df-convert\" onclick=\"convertToInteractive('df-5bba3ce6-0d59-41cc-8c79-c6b3e4563152')\"\n",
              "              title=\"Convert this dataframe to an interactive table.\"\n",
              "              style=\"display:none;\">\n",
              "        \n",
              "  <svg xmlns=\"http://www.w3.org/2000/svg\" height=\"24px\"viewBox=\"0 0 24 24\"\n",
              "       width=\"24px\">\n",
              "    <path d=\"M0 0h24v24H0V0z\" fill=\"none\"/>\n",
              "    <path d=\"M18.56 5.44l.94 2.06.94-2.06 2.06-.94-2.06-.94-.94-2.06-.94 2.06-2.06.94zm-11 1L8.5 8.5l.94-2.06 2.06-.94-2.06-.94L8.5 2.5l-.94 2.06-2.06.94zm10 10l.94 2.06.94-2.06 2.06-.94-2.06-.94-.94-2.06-.94 2.06-2.06.94z\"/><path d=\"M17.41 7.96l-1.37-1.37c-.4-.4-.92-.59-1.43-.59-.52 0-1.04.2-1.43.59L10.3 9.45l-7.72 7.72c-.78.78-.78 2.05 0 2.83L4 21.41c.39.39.9.59 1.41.59.51 0 1.02-.2 1.41-.59l7.78-7.78 2.81-2.81c.8-.78.8-2.07 0-2.86zM5.41 20L4 18.59l7.72-7.72 1.47 1.35L5.41 20z\"/>\n",
              "  </svg>\n",
              "      </button>\n",
              "      \n",
              "  <style>\n",
              "    .colab-df-container {\n",
              "      display:flex;\n",
              "      flex-wrap:wrap;\n",
              "      gap: 12px;\n",
              "    }\n",
              "\n",
              "    .colab-df-convert {\n",
              "      background-color: #E8F0FE;\n",
              "      border: none;\n",
              "      border-radius: 50%;\n",
              "      cursor: pointer;\n",
              "      display: none;\n",
              "      fill: #1967D2;\n",
              "      height: 32px;\n",
              "      padding: 0 0 0 0;\n",
              "      width: 32px;\n",
              "    }\n",
              "\n",
              "    .colab-df-convert:hover {\n",
              "      background-color: #E2EBFA;\n",
              "      box-shadow: 0px 1px 2px rgba(60, 64, 67, 0.3), 0px 1px 3px 1px rgba(60, 64, 67, 0.15);\n",
              "      fill: #174EA6;\n",
              "    }\n",
              "\n",
              "    [theme=dark] .colab-df-convert {\n",
              "      background-color: #3B4455;\n",
              "      fill: #D2E3FC;\n",
              "    }\n",
              "\n",
              "    [theme=dark] .colab-df-convert:hover {\n",
              "      background-color: #434B5C;\n",
              "      box-shadow: 0px 1px 3px 1px rgba(0, 0, 0, 0.15);\n",
              "      filter: drop-shadow(0px 1px 2px rgba(0, 0, 0, 0.3));\n",
              "      fill: #FFFFFF;\n",
              "    }\n",
              "  </style>\n",
              "\n",
              "      <script>\n",
              "        const buttonEl =\n",
              "          document.querySelector('#df-5bba3ce6-0d59-41cc-8c79-c6b3e4563152 button.colab-df-convert');\n",
              "        buttonEl.style.display =\n",
              "          google.colab.kernel.accessAllowed ? 'block' : 'none';\n",
              "\n",
              "        async function convertToInteractive(key) {\n",
              "          const element = document.querySelector('#df-5bba3ce6-0d59-41cc-8c79-c6b3e4563152');\n",
              "          const dataTable =\n",
              "            await google.colab.kernel.invokeFunction('convertToInteractive',\n",
              "                                                     [key], {});\n",
              "          if (!dataTable) return;\n",
              "\n",
              "          const docLinkHtml = 'Like what you see? Visit the ' +\n",
              "            '<a target=\"_blank\" href=https://colab.research.google.com/notebooks/data_table.ipynb>data table notebook</a>'\n",
              "            + ' to learn more about interactive tables.';\n",
              "          element.innerHTML = '';\n",
              "          dataTable['output_type'] = 'display_data';\n",
              "          await google.colab.output.renderOutput(dataTable, element);\n",
              "          const docLink = document.createElement('div');\n",
              "          docLink.innerHTML = docLinkHtml;\n",
              "          element.appendChild(docLink);\n",
              "        }\n",
              "      </script>\n",
              "    </div>\n",
              "  </div>\n",
              "  "
            ]
          },
          "metadata": {},
          "execution_count": 175
        }
      ]
    },
    {
      "cell_type": "code",
      "source": [
        "social_data_df.describe()"
      ],
      "metadata": {
        "colab": {
          "base_uri": "https://localhost:8080/",
          "height": 300
        },
        "id": "jiKVI_cH53AP",
        "outputId": "6f561083-ced6-4fec-999f-4b691de41d28"
      },
      "execution_count": 176,
      "outputs": [
        {
          "output_type": "execute_result",
          "data": {
            "text/plain": [
              "       Total Impressions  Total Engagements\n",
              "count        3479.000000        3479.000000\n",
              "mean        10972.453579         947.390629\n",
              "std         29577.108063        3468.628038\n",
              "min             0.000000           0.000000\n",
              "25%           167.000000           0.000000\n",
              "50%          1884.000000          39.000000\n",
              "75%         12467.000000         276.500000\n",
              "max        753227.000000       95062.000000"
            ],
            "text/html": [
              "\n",
              "  <div id=\"df-0e75e2b5-7708-4443-9604-d38ac7c458dc\">\n",
              "    <div class=\"colab-df-container\">\n",
              "      <div>\n",
              "<style scoped>\n",
              "    .dataframe tbody tr th:only-of-type {\n",
              "        vertical-align: middle;\n",
              "    }\n",
              "\n",
              "    .dataframe tbody tr th {\n",
              "        vertical-align: top;\n",
              "    }\n",
              "\n",
              "    .dataframe thead th {\n",
              "        text-align: right;\n",
              "    }\n",
              "</style>\n",
              "<table border=\"1\" class=\"dataframe\">\n",
              "  <thead>\n",
              "    <tr style=\"text-align: right;\">\n",
              "      <th></th>\n",
              "      <th>Total Impressions</th>\n",
              "      <th>Total Engagements</th>\n",
              "    </tr>\n",
              "  </thead>\n",
              "  <tbody>\n",
              "    <tr>\n",
              "      <th>count</th>\n",
              "      <td>3479.000000</td>\n",
              "      <td>3479.000000</td>\n",
              "    </tr>\n",
              "    <tr>\n",
              "      <th>mean</th>\n",
              "      <td>10972.453579</td>\n",
              "      <td>947.390629</td>\n",
              "    </tr>\n",
              "    <tr>\n",
              "      <th>std</th>\n",
              "      <td>29577.108063</td>\n",
              "      <td>3468.628038</td>\n",
              "    </tr>\n",
              "    <tr>\n",
              "      <th>min</th>\n",
              "      <td>0.000000</td>\n",
              "      <td>0.000000</td>\n",
              "    </tr>\n",
              "    <tr>\n",
              "      <th>25%</th>\n",
              "      <td>167.000000</td>\n",
              "      <td>0.000000</td>\n",
              "    </tr>\n",
              "    <tr>\n",
              "      <th>50%</th>\n",
              "      <td>1884.000000</td>\n",
              "      <td>39.000000</td>\n",
              "    </tr>\n",
              "    <tr>\n",
              "      <th>75%</th>\n",
              "      <td>12467.000000</td>\n",
              "      <td>276.500000</td>\n",
              "    </tr>\n",
              "    <tr>\n",
              "      <th>max</th>\n",
              "      <td>753227.000000</td>\n",
              "      <td>95062.000000</td>\n",
              "    </tr>\n",
              "  </tbody>\n",
              "</table>\n",
              "</div>\n",
              "      <button class=\"colab-df-convert\" onclick=\"convertToInteractive('df-0e75e2b5-7708-4443-9604-d38ac7c458dc')\"\n",
              "              title=\"Convert this dataframe to an interactive table.\"\n",
              "              style=\"display:none;\">\n",
              "        \n",
              "  <svg xmlns=\"http://www.w3.org/2000/svg\" height=\"24px\"viewBox=\"0 0 24 24\"\n",
              "       width=\"24px\">\n",
              "    <path d=\"M0 0h24v24H0V0z\" fill=\"none\"/>\n",
              "    <path d=\"M18.56 5.44l.94 2.06.94-2.06 2.06-.94-2.06-.94-.94-2.06-.94 2.06-2.06.94zm-11 1L8.5 8.5l.94-2.06 2.06-.94-2.06-.94L8.5 2.5l-.94 2.06-2.06.94zm10 10l.94 2.06.94-2.06 2.06-.94-2.06-.94-.94-2.06-.94 2.06-2.06.94z\"/><path d=\"M17.41 7.96l-1.37-1.37c-.4-.4-.92-.59-1.43-.59-.52 0-1.04.2-1.43.59L10.3 9.45l-7.72 7.72c-.78.78-.78 2.05 0 2.83L4 21.41c.39.39.9.59 1.41.59.51 0 1.02-.2 1.41-.59l7.78-7.78 2.81-2.81c.8-.78.8-2.07 0-2.86zM5.41 20L4 18.59l7.72-7.72 1.47 1.35L5.41 20z\"/>\n",
              "  </svg>\n",
              "      </button>\n",
              "      \n",
              "  <style>\n",
              "    .colab-df-container {\n",
              "      display:flex;\n",
              "      flex-wrap:wrap;\n",
              "      gap: 12px;\n",
              "    }\n",
              "\n",
              "    .colab-df-convert {\n",
              "      background-color: #E8F0FE;\n",
              "      border: none;\n",
              "      border-radius: 50%;\n",
              "      cursor: pointer;\n",
              "      display: none;\n",
              "      fill: #1967D2;\n",
              "      height: 32px;\n",
              "      padding: 0 0 0 0;\n",
              "      width: 32px;\n",
              "    }\n",
              "\n",
              "    .colab-df-convert:hover {\n",
              "      background-color: #E2EBFA;\n",
              "      box-shadow: 0px 1px 2px rgba(60, 64, 67, 0.3), 0px 1px 3px 1px rgba(60, 64, 67, 0.15);\n",
              "      fill: #174EA6;\n",
              "    }\n",
              "\n",
              "    [theme=dark] .colab-df-convert {\n",
              "      background-color: #3B4455;\n",
              "      fill: #D2E3FC;\n",
              "    }\n",
              "\n",
              "    [theme=dark] .colab-df-convert:hover {\n",
              "      background-color: #434B5C;\n",
              "      box-shadow: 0px 1px 3px 1px rgba(0, 0, 0, 0.15);\n",
              "      filter: drop-shadow(0px 1px 2px rgba(0, 0, 0, 0.3));\n",
              "      fill: #FFFFFF;\n",
              "    }\n",
              "  </style>\n",
              "\n",
              "      <script>\n",
              "        const buttonEl =\n",
              "          document.querySelector('#df-0e75e2b5-7708-4443-9604-d38ac7c458dc button.colab-df-convert');\n",
              "        buttonEl.style.display =\n",
              "          google.colab.kernel.accessAllowed ? 'block' : 'none';\n",
              "\n",
              "        async function convertToInteractive(key) {\n",
              "          const element = document.querySelector('#df-0e75e2b5-7708-4443-9604-d38ac7c458dc');\n",
              "          const dataTable =\n",
              "            await google.colab.kernel.invokeFunction('convertToInteractive',\n",
              "                                                     [key], {});\n",
              "          if (!dataTable) return;\n",
              "\n",
              "          const docLinkHtml = 'Like what you see? Visit the ' +\n",
              "            '<a target=\"_blank\" href=https://colab.research.google.com/notebooks/data_table.ipynb>data table notebook</a>'\n",
              "            + ' to learn more about interactive tables.';\n",
              "          element.innerHTML = '';\n",
              "          dataTable['output_type'] = 'display_data';\n",
              "          await google.colab.output.renderOutput(dataTable, element);\n",
              "          const docLink = document.createElement('div');\n",
              "          docLink.innerHTML = docLinkHtml;\n",
              "          element.appendChild(docLink);\n",
              "        }\n",
              "      </script>\n",
              "    </div>\n",
              "  </div>\n",
              "  "
            ]
          },
          "metadata": {},
          "execution_count": 176
        }
      ]
    },
    {
      "cell_type": "code",
      "source": [
        "social_data_df.shape # 3479 rows and 7 columns/features in the data"
      ],
      "metadata": {
        "colab": {
          "base_uri": "https://localhost:8080/"
        },
        "id": "kxs04VbZ6FrZ",
        "outputId": "d704aed8-580e-4f87-8654-807e86f20b06"
      },
      "execution_count": 177,
      "outputs": [
        {
          "output_type": "execute_result",
          "data": {
            "text/plain": [
              "(3479, 7)"
            ]
          },
          "metadata": {},
          "execution_count": 177
        }
      ]
    },
    {
      "cell_type": "code",
      "source": [
        "social_data_df['Campaign Name'].value_counts()/len(social_data_df['Campaign Name'])*100"
      ],
      "metadata": {
        "colab": {
          "base_uri": "https://localhost:8080/"
        },
        "id": "9VflUW596M34",
        "outputId": "dd1f0620-dc4c-4333-c8a8-c14446614ef7"
      },
      "execution_count": 178,
      "outputs": [
        {
          "output_type": "execute_result",
          "data": {
            "text/plain": [
              "N/A                      42.684680\n",
              "Community Engagement     40.557632\n",
              "Evil Exhibited           12.072435\n",
              "Evergreen                 4.685254\n",
              "Name: Campaign Name, dtype: float64"
            ]
          },
          "metadata": {},
          "execution_count": 178
        }
      ]
    },
    {
      "cell_type": "markdown",
      "source": [
        "43% of Campaign Name has N/A which means the canditates doesn't belongs to any Campaign."
      ],
      "metadata": {
        "id": "wykLyW1J64pw"
      }
    },
    {
      "cell_type": "code",
      "source": [
        "(social_data_df['Total Impressions']==0).value_counts()/len(social_data_df['Total Impressions'])*100"
      ],
      "metadata": {
        "colab": {
          "base_uri": "https://localhost:8080/"
        },
        "id": "PkxzkTcHOIRG",
        "outputId": "f1329671-bf06-4eea-9da6-d225f788cabe"
      },
      "execution_count": 179,
      "outputs": [
        {
          "output_type": "execute_result",
          "data": {
            "text/plain": [
              "False    78.614544\n",
              "True     21.385456\n",
              "Name: Total Impressions, dtype: float64"
            ]
          },
          "metadata": {},
          "execution_count": 179
        }
      ]
    },
    {
      "cell_type": "markdown",
      "source": [
        "About 21% of the records have zero impression . This advertisement or content was not displayed to the users.\n",
        "\n"
      ],
      "metadata": {
        "id": "uVlQHs2aOd-C"
      }
    },
    {
      "cell_type": "code",
      "source": [
        "(social_data_df['Total Engagements']==0).value_counts()/len(social_data_df['Total Engagements'])*100"
      ],
      "metadata": {
        "colab": {
          "base_uri": "https://localhost:8080/"
        },
        "id": "dTCZRiopOdgk",
        "outputId": "2ed424bb-e86e-445c-8f65-3eab2b4fd68f"
      },
      "execution_count": 180,
      "outputs": [
        {
          "output_type": "execute_result",
          "data": {
            "text/plain": [
              "False    72.2334\n",
              "True     27.7666\n",
              "Name: Total Engagements, dtype: float64"
            ]
          },
          "metadata": {},
          "execution_count": 180
        }
      ]
    },
    {
      "cell_type": "markdown",
      "source": [
        "27% of the records have zero engagement. This means there is no interaction, involvement or response from the users."
      ],
      "metadata": {
        "id": "HJFA2Aiu3PLh"
      }
    },
    {
      "cell_type": "code",
      "source": [
        "filtered_df = social_data_df[(social_data_df['Total Impressions'] != 0) & (social_data_df['Total Engagements'] != 0)]\n"
      ],
      "metadata": {
        "id": "G1SsRAQYOJZ1"
      },
      "execution_count": 181,
      "outputs": []
    },
    {
      "cell_type": "code",
      "source": [
        "selected_columns = filtered_df[['Total Impressions', 'Total Engagements']]\n",
        "selected_columns"
      ],
      "metadata": {
        "colab": {
          "base_uri": "https://localhost:8080/",
          "height": 423
        },
        "id": "hAi71naC_RDQ",
        "outputId": "46ee21bf-4a7d-45fa-fdb6-2f5f91bf22d9"
      },
      "execution_count": 184,
      "outputs": [
        {
          "output_type": "execute_result",
          "data": {
            "text/plain": [
              "      Total Impressions  Total Engagements\n",
              "4                  9517               1215\n",
              "6                  1882                 83\n",
              "7                 17892               3076\n",
              "9                 13874               1447\n",
              "10                37692               8044\n",
              "...                 ...                ...\n",
              "3463                393                 18\n",
              "3464             136660               2371\n",
              "3465              29051                811\n",
              "3470               7704                153\n",
              "3477               2116                 42\n",
              "\n",
              "[2513 rows x 2 columns]"
            ],
            "text/html": [
              "\n",
              "  <div id=\"df-643412cb-a4f4-4bcd-9c78-86b54078dd68\">\n",
              "    <div class=\"colab-df-container\">\n",
              "      <div>\n",
              "<style scoped>\n",
              "    .dataframe tbody tr th:only-of-type {\n",
              "        vertical-align: middle;\n",
              "    }\n",
              "\n",
              "    .dataframe tbody tr th {\n",
              "        vertical-align: top;\n",
              "    }\n",
              "\n",
              "    .dataframe thead th {\n",
              "        text-align: right;\n",
              "    }\n",
              "</style>\n",
              "<table border=\"1\" class=\"dataframe\">\n",
              "  <thead>\n",
              "    <tr style=\"text-align: right;\">\n",
              "      <th></th>\n",
              "      <th>Total Impressions</th>\n",
              "      <th>Total Engagements</th>\n",
              "    </tr>\n",
              "  </thead>\n",
              "  <tbody>\n",
              "    <tr>\n",
              "      <th>4</th>\n",
              "      <td>9517</td>\n",
              "      <td>1215</td>\n",
              "    </tr>\n",
              "    <tr>\n",
              "      <th>6</th>\n",
              "      <td>1882</td>\n",
              "      <td>83</td>\n",
              "    </tr>\n",
              "    <tr>\n",
              "      <th>7</th>\n",
              "      <td>17892</td>\n",
              "      <td>3076</td>\n",
              "    </tr>\n",
              "    <tr>\n",
              "      <th>9</th>\n",
              "      <td>13874</td>\n",
              "      <td>1447</td>\n",
              "    </tr>\n",
              "    <tr>\n",
              "      <th>10</th>\n",
              "      <td>37692</td>\n",
              "      <td>8044</td>\n",
              "    </tr>\n",
              "    <tr>\n",
              "      <th>...</th>\n",
              "      <td>...</td>\n",
              "      <td>...</td>\n",
              "    </tr>\n",
              "    <tr>\n",
              "      <th>3463</th>\n",
              "      <td>393</td>\n",
              "      <td>18</td>\n",
              "    </tr>\n",
              "    <tr>\n",
              "      <th>3464</th>\n",
              "      <td>136660</td>\n",
              "      <td>2371</td>\n",
              "    </tr>\n",
              "    <tr>\n",
              "      <th>3465</th>\n",
              "      <td>29051</td>\n",
              "      <td>811</td>\n",
              "    </tr>\n",
              "    <tr>\n",
              "      <th>3470</th>\n",
              "      <td>7704</td>\n",
              "      <td>153</td>\n",
              "    </tr>\n",
              "    <tr>\n",
              "      <th>3477</th>\n",
              "      <td>2116</td>\n",
              "      <td>42</td>\n",
              "    </tr>\n",
              "  </tbody>\n",
              "</table>\n",
              "<p>2513 rows × 2 columns</p>\n",
              "</div>\n",
              "      <button class=\"colab-df-convert\" onclick=\"convertToInteractive('df-643412cb-a4f4-4bcd-9c78-86b54078dd68')\"\n",
              "              title=\"Convert this dataframe to an interactive table.\"\n",
              "              style=\"display:none;\">\n",
              "        \n",
              "  <svg xmlns=\"http://www.w3.org/2000/svg\" height=\"24px\"viewBox=\"0 0 24 24\"\n",
              "       width=\"24px\">\n",
              "    <path d=\"M0 0h24v24H0V0z\" fill=\"none\"/>\n",
              "    <path d=\"M18.56 5.44l.94 2.06.94-2.06 2.06-.94-2.06-.94-.94-2.06-.94 2.06-2.06.94zm-11 1L8.5 8.5l.94-2.06 2.06-.94-2.06-.94L8.5 2.5l-.94 2.06-2.06.94zm10 10l.94 2.06.94-2.06 2.06-.94-2.06-.94-.94-2.06-.94 2.06-2.06.94z\"/><path d=\"M17.41 7.96l-1.37-1.37c-.4-.4-.92-.59-1.43-.59-.52 0-1.04.2-1.43.59L10.3 9.45l-7.72 7.72c-.78.78-.78 2.05 0 2.83L4 21.41c.39.39.9.59 1.41.59.51 0 1.02-.2 1.41-.59l7.78-7.78 2.81-2.81c.8-.78.8-2.07 0-2.86zM5.41 20L4 18.59l7.72-7.72 1.47 1.35L5.41 20z\"/>\n",
              "  </svg>\n",
              "      </button>\n",
              "      \n",
              "  <style>\n",
              "    .colab-df-container {\n",
              "      display:flex;\n",
              "      flex-wrap:wrap;\n",
              "      gap: 12px;\n",
              "    }\n",
              "\n",
              "    .colab-df-convert {\n",
              "      background-color: #E8F0FE;\n",
              "      border: none;\n",
              "      border-radius: 50%;\n",
              "      cursor: pointer;\n",
              "      display: none;\n",
              "      fill: #1967D2;\n",
              "      height: 32px;\n",
              "      padding: 0 0 0 0;\n",
              "      width: 32px;\n",
              "    }\n",
              "\n",
              "    .colab-df-convert:hover {\n",
              "      background-color: #E2EBFA;\n",
              "      box-shadow: 0px 1px 2px rgba(60, 64, 67, 0.3), 0px 1px 3px 1px rgba(60, 64, 67, 0.15);\n",
              "      fill: #174EA6;\n",
              "    }\n",
              "\n",
              "    [theme=dark] .colab-df-convert {\n",
              "      background-color: #3B4455;\n",
              "      fill: #D2E3FC;\n",
              "    }\n",
              "\n",
              "    [theme=dark] .colab-df-convert:hover {\n",
              "      background-color: #434B5C;\n",
              "      box-shadow: 0px 1px 3px 1px rgba(0, 0, 0, 0.15);\n",
              "      filter: drop-shadow(0px 1px 2px rgba(0, 0, 0, 0.3));\n",
              "      fill: #FFFFFF;\n",
              "    }\n",
              "  </style>\n",
              "\n",
              "      <script>\n",
              "        const buttonEl =\n",
              "          document.querySelector('#df-643412cb-a4f4-4bcd-9c78-86b54078dd68 button.colab-df-convert');\n",
              "        buttonEl.style.display =\n",
              "          google.colab.kernel.accessAllowed ? 'block' : 'none';\n",
              "\n",
              "        async function convertToInteractive(key) {\n",
              "          const element = document.querySelector('#df-643412cb-a4f4-4bcd-9c78-86b54078dd68');\n",
              "          const dataTable =\n",
              "            await google.colab.kernel.invokeFunction('convertToInteractive',\n",
              "                                                     [key], {});\n",
              "          if (!dataTable) return;\n",
              "\n",
              "          const docLinkHtml = 'Like what you see? Visit the ' +\n",
              "            '<a target=\"_blank\" href=https://colab.research.google.com/notebooks/data_table.ipynb>data table notebook</a>'\n",
              "            + ' to learn more about interactive tables.';\n",
              "          element.innerHTML = '';\n",
              "          dataTable['output_type'] = 'display_data';\n",
              "          await google.colab.output.renderOutput(dataTable, element);\n",
              "          const docLink = document.createElement('div');\n",
              "          docLink.innerHTML = docLinkHtml;\n",
              "          element.appendChild(docLink);\n",
              "        }\n",
              "      </script>\n",
              "    </div>\n",
              "  </div>\n",
              "  "
            ]
          },
          "metadata": {},
          "execution_count": 184
        }
      ]
    },
    {
      "cell_type": "code",
      "source": [
        "filtered_df['Engagement Rate']= (filtered_df['Total Engagements']/filtered_df['Total Impressions'])*100\n",
        "filtered_df.head()"
      ],
      "metadata": {
        "colab": {
          "base_uri": "https://localhost:8080/",
          "height": 206
        },
        "id": "mOkkBvXLACUt",
        "outputId": "b708526e-64e5-4026-9a19-6696f09813a2"
      },
      "execution_count": 186,
      "outputs": [
        {
          "output_type": "execute_result",
          "data": {
            "text/plain": [
              "            Published Date   Account Account Type          Campaign Name  \\\n",
              "4  2023-03-31 19:43:42.590      CSGO      TWITTER  Community Engagement    \n",
              "6  2023-03-31 19:40:57.383      CSGO      TWITTER  Community Engagement    \n",
              "7  2023-03-31 19:23:57.349      CSGO      TWITTER  Community Engagement    \n",
              "9  2023-03-31 18:55:51.855      CSGO      TWITTER  Community Engagement    \n",
              "10 2023-03-31 18:36:01.000  General        FBPAGE  Community Engagement    \n",
              "\n",
              "    Total Impressions  Total Engagements Media Type  Engagement Rate  \n",
              "4                9517               1215      Video        12.766628  \n",
              "6                1882                 83      Photo         4.410202  \n",
              "7               17892               3076      Video        17.192041  \n",
              "9               13874               1447      Video        10.429581  \n",
              "10              37692               8044      Photo        21.341399  "
            ],
            "text/html": [
              "\n",
              "  <div id=\"df-7e670fc3-f8fa-40ef-b3da-6bd5f38da2fa\">\n",
              "    <div class=\"colab-df-container\">\n",
              "      <div>\n",
              "<style scoped>\n",
              "    .dataframe tbody tr th:only-of-type {\n",
              "        vertical-align: middle;\n",
              "    }\n",
              "\n",
              "    .dataframe tbody tr th {\n",
              "        vertical-align: top;\n",
              "    }\n",
              "\n",
              "    .dataframe thead th {\n",
              "        text-align: right;\n",
              "    }\n",
              "</style>\n",
              "<table border=\"1\" class=\"dataframe\">\n",
              "  <thead>\n",
              "    <tr style=\"text-align: right;\">\n",
              "      <th></th>\n",
              "      <th>Published Date</th>\n",
              "      <th>Account</th>\n",
              "      <th>Account Type</th>\n",
              "      <th>Campaign Name</th>\n",
              "      <th>Total Impressions</th>\n",
              "      <th>Total Engagements</th>\n",
              "      <th>Media Type</th>\n",
              "      <th>Engagement Rate</th>\n",
              "    </tr>\n",
              "  </thead>\n",
              "  <tbody>\n",
              "    <tr>\n",
              "      <th>4</th>\n",
              "      <td>2023-03-31 19:43:42.590</td>\n",
              "      <td>CSGO</td>\n",
              "      <td>TWITTER</td>\n",
              "      <td>Community Engagement</td>\n",
              "      <td>9517</td>\n",
              "      <td>1215</td>\n",
              "      <td>Video</td>\n",
              "      <td>12.766628</td>\n",
              "    </tr>\n",
              "    <tr>\n",
              "      <th>6</th>\n",
              "      <td>2023-03-31 19:40:57.383</td>\n",
              "      <td>CSGO</td>\n",
              "      <td>TWITTER</td>\n",
              "      <td>Community Engagement</td>\n",
              "      <td>1882</td>\n",
              "      <td>83</td>\n",
              "      <td>Photo</td>\n",
              "      <td>4.410202</td>\n",
              "    </tr>\n",
              "    <tr>\n",
              "      <th>7</th>\n",
              "      <td>2023-03-31 19:23:57.349</td>\n",
              "      <td>CSGO</td>\n",
              "      <td>TWITTER</td>\n",
              "      <td>Community Engagement</td>\n",
              "      <td>17892</td>\n",
              "      <td>3076</td>\n",
              "      <td>Video</td>\n",
              "      <td>17.192041</td>\n",
              "    </tr>\n",
              "    <tr>\n",
              "      <th>9</th>\n",
              "      <td>2023-03-31 18:55:51.855</td>\n",
              "      <td>CSGO</td>\n",
              "      <td>TWITTER</td>\n",
              "      <td>Community Engagement</td>\n",
              "      <td>13874</td>\n",
              "      <td>1447</td>\n",
              "      <td>Video</td>\n",
              "      <td>10.429581</td>\n",
              "    </tr>\n",
              "    <tr>\n",
              "      <th>10</th>\n",
              "      <td>2023-03-31 18:36:01.000</td>\n",
              "      <td>General</td>\n",
              "      <td>FBPAGE</td>\n",
              "      <td>Community Engagement</td>\n",
              "      <td>37692</td>\n",
              "      <td>8044</td>\n",
              "      <td>Photo</td>\n",
              "      <td>21.341399</td>\n",
              "    </tr>\n",
              "  </tbody>\n",
              "</table>\n",
              "</div>\n",
              "      <button class=\"colab-df-convert\" onclick=\"convertToInteractive('df-7e670fc3-f8fa-40ef-b3da-6bd5f38da2fa')\"\n",
              "              title=\"Convert this dataframe to an interactive table.\"\n",
              "              style=\"display:none;\">\n",
              "        \n",
              "  <svg xmlns=\"http://www.w3.org/2000/svg\" height=\"24px\"viewBox=\"0 0 24 24\"\n",
              "       width=\"24px\">\n",
              "    <path d=\"M0 0h24v24H0V0z\" fill=\"none\"/>\n",
              "    <path d=\"M18.56 5.44l.94 2.06.94-2.06 2.06-.94-2.06-.94-.94-2.06-.94 2.06-2.06.94zm-11 1L8.5 8.5l.94-2.06 2.06-.94-2.06-.94L8.5 2.5l-.94 2.06-2.06.94zm10 10l.94 2.06.94-2.06 2.06-.94-2.06-.94-.94-2.06-.94 2.06-2.06.94z\"/><path d=\"M17.41 7.96l-1.37-1.37c-.4-.4-.92-.59-1.43-.59-.52 0-1.04.2-1.43.59L10.3 9.45l-7.72 7.72c-.78.78-.78 2.05 0 2.83L4 21.41c.39.39.9.59 1.41.59.51 0 1.02-.2 1.41-.59l7.78-7.78 2.81-2.81c.8-.78.8-2.07 0-2.86zM5.41 20L4 18.59l7.72-7.72 1.47 1.35L5.41 20z\"/>\n",
              "  </svg>\n",
              "      </button>\n",
              "      \n",
              "  <style>\n",
              "    .colab-df-container {\n",
              "      display:flex;\n",
              "      flex-wrap:wrap;\n",
              "      gap: 12px;\n",
              "    }\n",
              "\n",
              "    .colab-df-convert {\n",
              "      background-color: #E8F0FE;\n",
              "      border: none;\n",
              "      border-radius: 50%;\n",
              "      cursor: pointer;\n",
              "      display: none;\n",
              "      fill: #1967D2;\n",
              "      height: 32px;\n",
              "      padding: 0 0 0 0;\n",
              "      width: 32px;\n",
              "    }\n",
              "\n",
              "    .colab-df-convert:hover {\n",
              "      background-color: #E2EBFA;\n",
              "      box-shadow: 0px 1px 2px rgba(60, 64, 67, 0.3), 0px 1px 3px 1px rgba(60, 64, 67, 0.15);\n",
              "      fill: #174EA6;\n",
              "    }\n",
              "\n",
              "    [theme=dark] .colab-df-convert {\n",
              "      background-color: #3B4455;\n",
              "      fill: #D2E3FC;\n",
              "    }\n",
              "\n",
              "    [theme=dark] .colab-df-convert:hover {\n",
              "      background-color: #434B5C;\n",
              "      box-shadow: 0px 1px 3px 1px rgba(0, 0, 0, 0.15);\n",
              "      filter: drop-shadow(0px 1px 2px rgba(0, 0, 0, 0.3));\n",
              "      fill: #FFFFFF;\n",
              "    }\n",
              "  </style>\n",
              "\n",
              "      <script>\n",
              "        const buttonEl =\n",
              "          document.querySelector('#df-7e670fc3-f8fa-40ef-b3da-6bd5f38da2fa button.colab-df-convert');\n",
              "        buttonEl.style.display =\n",
              "          google.colab.kernel.accessAllowed ? 'block' : 'none';\n",
              "\n",
              "        async function convertToInteractive(key) {\n",
              "          const element = document.querySelector('#df-7e670fc3-f8fa-40ef-b3da-6bd5f38da2fa');\n",
              "          const dataTable =\n",
              "            await google.colab.kernel.invokeFunction('convertToInteractive',\n",
              "                                                     [key], {});\n",
              "          if (!dataTable) return;\n",
              "\n",
              "          const docLinkHtml = 'Like what you see? Visit the ' +\n",
              "            '<a target=\"_blank\" href=https://colab.research.google.com/notebooks/data_table.ipynb>data table notebook</a>'\n",
              "            + ' to learn more about interactive tables.';\n",
              "          element.innerHTML = '';\n",
              "          dataTable['output_type'] = 'display_data';\n",
              "          await google.colab.output.renderOutput(dataTable, element);\n",
              "          const docLink = document.createElement('div');\n",
              "          docLink.innerHTML = docLinkHtml;\n",
              "          element.appendChild(docLink);\n",
              "        }\n",
              "      </script>\n",
              "    </div>\n",
              "  </div>\n",
              "  "
            ]
          },
          "metadata": {},
          "execution_count": 186
        }
      ]
    },
    {
      "cell_type": "markdown",
      "source": [
        "1. What is the typical engagement rate we can expect? What’s the likelihood that we can\n",
        "achieve a 15% engagement rate?"
      ],
      "metadata": {
        "id": "ZCddFQ-mH19u"
      }
    },
    {
      "cell_type": "code",
      "source": [
        "average_Engagement_Rate = filtered_df['Engagement Rate'].mean()\n",
        "print(f\"The average engagement rate we can expect is: {average_Engagement_Rate:.2f}%\")"
      ],
      "metadata": {
        "colab": {
          "base_uri": "https://localhost:8080/"
        },
        "id": "eueo-ofaGC4u",
        "outputId": "0bfc0000-db32-4f80-ac7e-5c20c6d45604"
      },
      "execution_count": 187,
      "outputs": [
        {
          "output_type": "stream",
          "name": "stdout",
          "text": [
            "The average engagement rate we can expect is: 44.07%\n"
          ]
        }
      ]
    },
    {
      "cell_type": "code",
      "source": [
        "likelihood = len(filtered_df[filtered_df['Engagement Rate'] >= 15]) / len(filtered_df) * 100\n",
        "print(f\"The likelihood of achieving a 15% or higher engagement rate is: {likelihood:.2f}%\")"
      ],
      "metadata": {
        "colab": {
          "base_uri": "https://localhost:8080/"
        },
        "id": "gz1XrfmsGiXB",
        "outputId": "35717391-0efa-4091-a30f-5b389ff0d34b"
      },
      "execution_count": 188,
      "outputs": [
        {
          "output_type": "stream",
          "name": "stdout",
          "text": [
            "The likelihood of achieving a 15% or higher engagement rate is: 8.99%\n"
          ]
        }
      ]
    },
    {
      "cell_type": "markdown",
      "source": [
        "**2. Does day of the week and time of posting affect engagement rates?**"
      ],
      "metadata": {
        "id": "E7M67zTJH3a5"
      }
    },
    {
      "cell_type": "code",
      "source": [
        "# Extract the day of the week from the 'Day' column\n",
        "filtered_df['Weekday'] = filtered_df['Published Date'].dt.day_name()\n"
      ],
      "metadata": {
        "id": "jUClq8NPKDul"
      },
      "execution_count": 189,
      "outputs": []
    },
    {
      "cell_type": "code",
      "source": [
        "# Extract the hour from the 'Time' column\n",
        "filtered_df['Hour'] = pd.to_datetime(filtered_df['Published Date']).dt.hour"
      ],
      "metadata": {
        "id": "Ipr6e-yGKYrn"
      },
      "execution_count": 190,
      "outputs": []
    },
    {
      "cell_type": "code",
      "source": [
        "# Calculate the mean engagement rate by weekday\n",
        "mean_engagement_by_weekday = filtered_df.groupby('Weekday')['Engagement Rate'].mean()\n",
        "weekday_order = ['Monday', 'Tuesday', 'Wednesday', 'Thursday', 'Friday', 'Saturday', 'Sunday']\n",
        "# Reindex the DataFrame to match the desired weekday order\n",
        "mean_engagement_by_weekday = mean_engagement_by_weekday.reindex(weekday_order)\n",
        "\n",
        "# Calculate the mean engagement rate by hour\n",
        "mean_engagement_by_hour = filtered_df.groupby('Hour')['Engagement Rate'].mean()\n"
      ],
      "metadata": {
        "id": "YiuEpXC7Ka9p"
      },
      "execution_count": 191,
      "outputs": []
    },
    {
      "cell_type": "code",
      "source": [
        "print(\"Average Engagement Rate by Weekday:\")\n",
        "print((mean_engagement_by_weekday))\n",
        "\n",
        "\n",
        "# Plotting the bar graph\n",
        "plt.bar(mean_engagement_by_weekday.index, mean_engagement_by_weekday)\n",
        "\n",
        "# Adding labels and title\n",
        "plt.xlabel('Weekday')\n",
        "plt.ylabel('Average Engagement Rate')\n",
        "plt.title('Average Engagement Rate by Weekday')\n",
        "\n",
        "# Rotating x-axis labels for better visibility\n",
        "plt.xticks(rotation=45)\n",
        "\n",
        "# Display the plot\n",
        "plt.show()\n"
      ],
      "metadata": {
        "colab": {
          "base_uri": "https://localhost:8080/",
          "height": 699
        },
        "id": "fbPTG0ieMx7p",
        "outputId": "42e545a6-f34b-4bda-b685-71e65f5a1cd1"
      },
      "execution_count": 192,
      "outputs": [
        {
          "output_type": "stream",
          "name": "stdout",
          "text": [
            "Average Engagement Rate by Weekday:\n",
            "Weekday\n",
            "Monday         4.667923\n",
            "Tuesday        6.986172\n",
            "Wednesday      4.812665\n",
            "Thursday      10.872485\n",
            "Friday       180.234005\n",
            "Saturday       4.274665\n",
            "Sunday         6.515960\n",
            "Name: Engagement Rate, dtype: float64\n"
          ]
        },
        {
          "output_type": "display_data",
          "data": {
            "text/plain": [
              "<Figure size 640x480 with 1 Axes>"
            ],
            "image/png": "[encoded data removed]"
          },
          "metadata": {}
        }
      ]
    },
    {
      "cell_type": "markdown",
      "source": [
        "1. From the data, it appears that Friday has the highest mean engagement rate with a value of 180.234005, followed by Thursday with 10.872485. Monday, Saturday, Sunday, Tuesday, and Wednesday have lower mean engagement rates ranging from 4.667923 to 6.986172.\n",
        "2. Friday and Thursday tend to have higher engagement rates compared to the other weekdays, while Monday through Wednesday have relatively lower engagement rates. This can be due to the days are closer to weekend and user or customers are planing for weekends. Hence, the engagement is more on Thursday and Friday."
      ],
      "metadata": {
        "id": "X46IIRuR0F5J"
      }
    },
    {
      "cell_type": "code",
      "source": [
        "\n",
        "print(\"Average Engagement Rate by hour:\")\n",
        "print((mean_engagement_by_hour))\n",
        "\n",
        "# Plotting the bar graph\n",
        "mean_engagement_by_hour.plot(kind='bar', alpha=0.7)  # Set alpha value to adjust the transparency of the bars\n",
        "\n",
        "# Adding labels and title\n",
        "plt.xlabel('Hour')\n",
        "plt.ylabel('Mean Engagement Rate')\n",
        "plt.title('Mean Engagement Rate by Hour')\n",
        "\n",
        "# Rotating x-axis labels for better visibility\n",
        "plt.xticks(rotation=45)\n",
        "\n",
        "# Display the plot\n",
        "plt.show()"
      ],
      "metadata": {
        "colab": {
          "base_uri": "https://localhost:8080/",
          "height": 914
        },
        "id": "eynmIG_qNCO8",
        "outputId": "37facf4b-15a9-4c14-e47b-843ba319841e"
      },
      "execution_count": 193,
      "outputs": [
        {
          "output_type": "stream",
          "name": "stdout",
          "text": [
            "Average Engagement Rate by hour:\n",
            "Hour\n",
            "2       0.840156\n",
            "3       5.656221\n",
            "4       6.371824\n",
            "5      11.948559\n",
            "6      22.797938\n",
            "7       7.003560\n",
            "8       8.042996\n",
            "9       6.624613\n",
            "10      5.101907\n",
            "11      9.782577\n",
            "12    434.735592\n",
            "13      5.452764\n",
            "14      5.534145\n",
            "15      5.016568\n",
            "16      5.728010\n",
            "17      5.842897\n",
            "18      5.046269\n",
            "19      5.020392\n",
            "20      5.685639\n",
            "21      6.089147\n",
            "22      2.059433\n",
            "23      2.859394\n",
            "Name: Engagement Rate, dtype: float64\n"
          ]
        },
        {
          "output_type": "display_data",
          "data": {
            "text/plain": [
              "<Figure size 640x480 with 1 Axes>"
            ],
            "image/png": "[encoded data removed]"
          },
          "metadata": {}
        }
      ]
    },
    {
      "cell_type": "markdown",
      "source": [
        "The engagement rates are highest around hour 12, with an average engagement rate of 434.74.This indicates that content posted around noon tends to attract a high level of engagement."
      ],
      "metadata": {
        "id": "njLJWX6ntI7Z"
      }
    },
    {
      "cell_type": "markdown",
      "source": [
        "3. **How are our game titles doing in terms of social performance? Is there a specific game we should focus more on or less?**"
      ],
      "metadata": {
        "id": "YCTHh1Rm819k"
      }
    },
    {
      "cell_type": "code",
      "source": [
        "filtered_df.Account.value_counts()"
      ],
      "metadata": {
        "colab": {
          "base_uri": "https://localhost:8080/"
        },
        "id": "PKise7Si9AkZ",
        "outputId": "f84c174f-851e-4178-abab-68a3be66919b"
      },
      "execution_count": 194,
      "outputs": [
        {
          "output_type": "execute_result",
          "data": {
            "text/plain": [
              "General             1538\n",
              "DOTA2                691\n",
              "CSGO                 198\n",
              "Content Creators      34\n",
              "Valorant              31\n",
              "General               21\n",
              "Name: Account, dtype: int64"
            ]
          },
          "metadata": {},
          "execution_count": 194
        }
      ]
    },
    {
      "cell_type": "code",
      "source": [
        "(filtered_df['Account'] == 'General').value_counts()"
      ],
      "metadata": {
        "colab": {
          "base_uri": "https://localhost:8080/"
        },
        "id": "6cg2luix_Wl3",
        "outputId": "9c0b9d5d-1860-4e3e-ef81-0165cb67675d"
      },
      "execution_count": 195,
      "outputs": [
        {
          "output_type": "execute_result",
          "data": {
            "text/plain": [
              "False    2492\n",
              "True       21\n",
              "Name: Account, dtype: int64"
            ]
          },
          "metadata": {},
          "execution_count": 195
        }
      ]
    },
    {
      "cell_type": "code",
      "source": [
        "(filtered_df['Account'] == 'General ').value_counts()"
      ],
      "metadata": {
        "colab": {
          "base_uri": "https://localhost:8080/"
        },
        "id": "dztSYenX_hjh",
        "outputId": "666511b6-0af7-4703-efdf-0feed58f59ca"
      },
      "execution_count": 196,
      "outputs": [
        {
          "output_type": "execute_result",
          "data": {
            "text/plain": [
              "True     1538\n",
              "False     975\n",
              "Name: Account, dtype: int64"
            ]
          },
          "metadata": {},
          "execution_count": 196
        }
      ]
    },
    {
      "cell_type": "code",
      "source": [
        "#removed all the spaces in the account column to make the data homogenous\n",
        "filtered_df['Account'] = filtered_df['Account'].str.replace(\" \", \"\")  "
      ],
      "metadata": {
        "id": "0ZLO8KRpAIZc"
      },
      "execution_count": 198,
      "outputs": []
    },
    {
      "cell_type": "code",
      "source": [
        "filtered_df.Account.value_counts()"
      ],
      "metadata": {
        "colab": {
          "base_uri": "https://localhost:8080/"
        },
        "id": "QDd1gRZPAofD",
        "outputId": "9cbc0f05-a554-4408-a9ec-654bc4c3c878"
      },
      "execution_count": 199,
      "outputs": [
        {
          "output_type": "execute_result",
          "data": {
            "text/plain": [
              "General            1559\n",
              "DOTA2               691\n",
              "CSGO                198\n",
              "ContentCreators      34\n",
              "Valorant             31\n",
              "Name: Account, dtype: int64"
            ]
          },
          "metadata": {},
          "execution_count": 199
        }
      ]
    },
    {
      "cell_type": "markdown",
      "source": [
        "Now the spaces are removed from General games."
      ],
      "metadata": {
        "id": "wBu5i0rqB-R4"
      }
    },
    {
      "cell_type": "code",
      "source": [
        "game_average_social_performance = filtered_df.groupby('Account')['Total Impressions', 'Total Engagements','Engagement Rate'].mean()"
      ],
      "metadata": {
        "id": "hLALj_BZAqeW"
      },
      "execution_count": 200,
      "outputs": []
    },
    {
      "cell_type": "code",
      "source": [
        "sorted_social_performance = game_average_social_performance.sort_values(by='Total Impressions', ascending=False)\n"
      ],
      "metadata": {
        "id": "HZmhx8YsChhL"
      },
      "execution_count": 201,
      "outputs": []
    },
    {
      "cell_type": "code",
      "source": [
        "#performance of game titles\n",
        "sorted_social_performance  "
      ],
      "metadata": {
        "colab": {
          "base_uri": "https://localhost:8080/",
          "height": 237
        },
        "id": "r7LCMoiQCilp",
        "outputId": "6e356a73-94b5-448a-cccc-8aec6fcb7fd9"
      },
      "execution_count": 202,
      "outputs": [
        {
          "output_type": "execute_result",
          "data": {
            "text/plain": [
              "                 Total Impressions  Total Engagements  Engagement Rate\n",
              "Account                                                               \n",
              "General               21076.433611        1973.911482        68.043645\n",
              "CSGO                  11686.454545         466.343434         4.132564\n",
              "DOTA2                  2689.794501         179.435601         4.994979\n",
              "ContentCreators        1328.764706          40.794118         6.353192\n",
              "Valorant                740.935484          30.032258         5.854570"
            ],
            "text/html": [
              "\n",
              "  <div id=\"df-d230d47e-57b9-486a-8237-465d7329a060\">\n",
              "    <div class=\"colab-df-container\">\n",
              "      <div>\n",
              "<style scoped>\n",
              "    .dataframe tbody tr th:only-of-type {\n",
              "        vertical-align: middle;\n",
              "    }\n",
              "\n",
              "    .dataframe tbody tr th {\n",
              "        vertical-align: top;\n",
              "    }\n",
              "\n",
              "    .dataframe thead th {\n",
              "        text-align: right;\n",
              "    }\n",
              "</style>\n",
              "<table border=\"1\" class=\"dataframe\">\n",
              "  <thead>\n",
              "    <tr style=\"text-align: right;\">\n",
              "      <th></th>\n",
              "      <th>Total Impressions</th>\n",
              "      <th>Total Engagements</th>\n",
              "      <th>Engagement Rate</th>\n",
              "    </tr>\n",
              "    <tr>\n",
              "      <th>Account</th>\n",
              "      <th></th>\n",
              "      <th></th>\n",
              "      <th></th>\n",
              "    </tr>\n",
              "  </thead>\n",
              "  <tbody>\n",
              "    <tr>\n",
              "      <th>General</th>\n",
              "      <td>21076.433611</td>\n",
              "      <td>1973.911482</td>\n",
              "      <td>68.043645</td>\n",
              "    </tr>\n",
              "    <tr>\n",
              "      <th>CSGO</th>\n",
              "      <td>11686.454545</td>\n",
              "      <td>466.343434</td>\n",
              "      <td>4.132564</td>\n",
              "    </tr>\n",
              "    <tr>\n",
              "      <th>DOTA2</th>\n",
              "      <td>2689.794501</td>\n",
              "      <td>179.435601</td>\n",
              "      <td>4.994979</td>\n",
              "    </tr>\n",
              "    <tr>\n",
              "      <th>ContentCreators</th>\n",
              "      <td>1328.764706</td>\n",
              "      <td>40.794118</td>\n",
              "      <td>6.353192</td>\n",
              "    </tr>\n",
              "    <tr>\n",
              "      <th>Valorant</th>\n",
              "      <td>740.935484</td>\n",
              "      <td>30.032258</td>\n",
              "      <td>5.854570</td>\n",
              "    </tr>\n",
              "  </tbody>\n",
              "</table>\n",
              "</div>\n",
              "      <button class=\"colab-df-convert\" onclick=\"convertToInteractive('df-d230d47e-57b9-486a-8237-465d7329a060')\"\n",
              "              title=\"Convert this dataframe to an interactive table.\"\n",
              "              style=\"display:none;\">\n",
              "        \n",
              "  <svg xmlns=\"http://www.w3.org/2000/svg\" height=\"24px\"viewBox=\"0 0 24 24\"\n",
              "       width=\"24px\">\n",
              "    <path d=\"M0 0h24v24H0V0z\" fill=\"none\"/>\n",
              "    <path d=\"M18.56 5.44l.94 2.06.94-2.06 2.06-.94-2.06-.94-.94-2.06-.94 2.06-2.06.94zm-11 1L8.5 8.5l.94-2.06 2.06-.94-2.06-.94L8.5 2.5l-.94 2.06-2.06.94zm10 10l.94 2.06.94-2.06 2.06-.94-2.06-.94-.94-2.06-.94 2.06-2.06.94z\"/><path d=\"M17.41 7.96l-1.37-1.37c-.4-.4-.92-.59-1.43-.59-.52 0-1.04.2-1.43.59L10.3 9.45l-7.72 7.72c-.78.78-.78 2.05 0 2.83L4 21.41c.39.39.9.59 1.41.59.51 0 1.02-.2 1.41-.59l7.78-7.78 2.81-2.81c.8-.78.8-2.07 0-2.86zM5.41 20L4 18.59l7.72-7.72 1.47 1.35L5.41 20z\"/>\n",
              "  </svg>\n",
              "      </button>\n",
              "      \n",
              "  <style>\n",
              "    .colab-df-container {\n",
              "      display:flex;\n",
              "      flex-wrap:wrap;\n",
              "      gap: 12px;\n",
              "    }\n",
              "\n",
              "    .colab-df-convert {\n",
              "      background-color: #E8F0FE;\n",
              "      border: none;\n",
              "      border-radius: 50%;\n",
              "      cursor: pointer;\n",
              "      display: none;\n",
              "      fill: #1967D2;\n",
              "      height: 32px;\n",
              "      padding: 0 0 0 0;\n",
              "      width: 32px;\n",
              "    }\n",
              "\n",
              "    .colab-df-convert:hover {\n",
              "      background-color: #E2EBFA;\n",
              "      box-shadow: 0px 1px 2px rgba(60, 64, 67, 0.3), 0px 1px 3px 1px rgba(60, 64, 67, 0.15);\n",
              "      fill: #174EA6;\n",
              "    }\n",
              "\n",
              "    [theme=dark] .colab-df-convert {\n",
              "      background-color: #3B4455;\n",
              "      fill: #D2E3FC;\n",
              "    }\n",
              "\n",
              "    [theme=dark] .colab-df-convert:hover {\n",
              "      background-color: #434B5C;\n",
              "      box-shadow: 0px 1px 3px 1px rgba(0, 0, 0, 0.15);\n",
              "      filter: drop-shadow(0px 1px 2px rgba(0, 0, 0, 0.3));\n",
              "      fill: #FFFFFF;\n",
              "    }\n",
              "  </style>\n",
              "\n",
              "      <script>\n",
              "        const buttonEl =\n",
              "          document.querySelector('#df-d230d47e-57b9-486a-8237-465d7329a060 button.colab-df-convert');\n",
              "        buttonEl.style.display =\n",
              "          google.colab.kernel.accessAllowed ? 'block' : 'none';\n",
              "\n",
              "        async function convertToInteractive(key) {\n",
              "          const element = document.querySelector('#df-d230d47e-57b9-486a-8237-465d7329a060');\n",
              "          const dataTable =\n",
              "            await google.colab.kernel.invokeFunction('convertToInteractive',\n",
              "                                                     [key], {});\n",
              "          if (!dataTable) return;\n",
              "\n",
              "          const docLinkHtml = 'Like what you see? Visit the ' +\n",
              "            '<a target=\"_blank\" href=https://colab.research.google.com/notebooks/data_table.ipynb>data table notebook</a>'\n",
              "            + ' to learn more about interactive tables.';\n",
              "          element.innerHTML = '';\n",
              "          dataTable['output_type'] = 'display_data';\n",
              "          await google.colab.output.renderOutput(dataTable, element);\n",
              "          const docLink = document.createElement('div');\n",
              "          docLink.innerHTML = docLinkHtml;\n",
              "          element.appendChild(docLink);\n",
              "        }\n",
              "      </script>\n",
              "    </div>\n",
              "  </div>\n",
              "  "
            ]
          },
          "metadata": {},
          "execution_count": 202
        }
      ]
    },
    {
      "cell_type": "markdown",
      "source": [
        "1. Based on these metrics, it appears that the \"General\" game is performing well across all aspects, including engagement rate, total impressions, and total engagements. Therefore, it may be worth focusing more on the \"General\" game to leverage its high engagement and reach.\n"
      ],
      "metadata": {
        "id": "8OYOpn8_DQ_O"
      }
    },
    {
      "cell_type": "markdown",
      "source": [
        "4. What media type performs the best?"
      ],
      "metadata": {
        "id": "F4R8__0fGJdP"
      }
    },
    {
      "cell_type": "code",
      "source": [
        "average_Engagement_Rate_media_type=filtered_df.groupby('Media Type')['Total Impressions', 'Total Engagements','Engagement Rate'].mean()"
      ],
      "metadata": {
        "id": "J_OOPksOCwXC"
      },
      "execution_count": 203,
      "outputs": []
    },
    {
      "cell_type": "code",
      "source": [
        "sorted_social_performance = average_Engagement_Rate_media_type.sort_values(by='Engagement Rate', ascending=False)"
      ],
      "metadata": {
        "id": "GLnStX5tGZzR"
      },
      "execution_count": 204,
      "outputs": []
    },
    {
      "cell_type": "code",
      "source": [
        "sorted_social_performance"
      ],
      "metadata": {
        "colab": {
          "base_uri": "https://localhost:8080/",
          "height": 300
        },
        "id": "s1MQ8u6RGq10",
        "outputId": "28b01471-09bb-4993-8fb2-c74a0db27700"
      },
      "execution_count": 205,
      "outputs": [
        {
          "output_type": "execute_result",
          "data": {
            "text/plain": [
              "            Total Impressions  Total Engagements  Engagement Rate\n",
              "Media Type                                                       \n",
              "Photo            20776.033154        1942.418459        92.729394\n",
              "Album               20.000000           8.000000        40.000000\n",
              "Mixed            36996.800000        2732.800000        10.770357\n",
              "Video            12787.890000        1074.313750         5.927097\n",
              "Text              5738.170055         455.290203         4.136746\n",
              "Carousel         17854.333333         726.777778         3.784294\n",
              "Link              5669.878049          55.048780         3.749983"
            ],
            "text/html": [
              "\n",
              "  <div id=\"df-1afe4127-1a94-482a-8295-7211f6cb7c02\">\n",
              "    <div class=\"colab-df-container\">\n",
              "      <div>\n",
              "<style scoped>\n",
              "    .dataframe tbody tr th:only-of-type {\n",
              "        vertical-align: middle;\n",
              "    }\n",
              "\n",
              "    .dataframe tbody tr th {\n",
              "        vertical-align: top;\n",
              "    }\n",
              "\n",
              "    .dataframe thead th {\n",
              "        text-align: right;\n",
              "    }\n",
              "</style>\n",
              "<table border=\"1\" class=\"dataframe\">\n",
              "  <thead>\n",
              "    <tr style=\"text-align: right;\">\n",
              "      <th></th>\n",
              "      <th>Total Impressions</th>\n",
              "      <th>Total Engagements</th>\n",
              "      <th>Engagement Rate</th>\n",
              "    </tr>\n",
              "    <tr>\n",
              "      <th>Media Type</th>\n",
              "      <th></th>\n",
              "      <th></th>\n",
              "      <th></th>\n",
              "    </tr>\n",
              "  </thead>\n",
              "  <tbody>\n",
              "    <tr>\n",
              "      <th>Photo</th>\n",
              "      <td>20776.033154</td>\n",
              "      <td>1942.418459</td>\n",
              "      <td>92.729394</td>\n",
              "    </tr>\n",
              "    <tr>\n",
              "      <th>Album</th>\n",
              "      <td>20.000000</td>\n",
              "      <td>8.000000</td>\n",
              "      <td>40.000000</td>\n",
              "    </tr>\n",
              "    <tr>\n",
              "      <th>Mixed</th>\n",
              "      <td>36996.800000</td>\n",
              "      <td>2732.800000</td>\n",
              "      <td>10.770357</td>\n",
              "    </tr>\n",
              "    <tr>\n",
              "      <th>Video</th>\n",
              "      <td>12787.890000</td>\n",
              "      <td>1074.313750</td>\n",
              "      <td>5.927097</td>\n",
              "    </tr>\n",
              "    <tr>\n",
              "      <th>Text</th>\n",
              "      <td>5738.170055</td>\n",
              "      <td>455.290203</td>\n",
              "      <td>4.136746</td>\n",
              "    </tr>\n",
              "    <tr>\n",
              "      <th>Carousel</th>\n",
              "      <td>17854.333333</td>\n",
              "      <td>726.777778</td>\n",
              "      <td>3.784294</td>\n",
              "    </tr>\n",
              "    <tr>\n",
              "      <th>Link</th>\n",
              "      <td>5669.878049</td>\n",
              "      <td>55.048780</td>\n",
              "      <td>3.749983</td>\n",
              "    </tr>\n",
              "  </tbody>\n",
              "</table>\n",
              "</div>\n",
              "      <button class=\"colab-df-convert\" onclick=\"convertToInteractive('df-1afe4127-1a94-482a-8295-7211f6cb7c02')\"\n",
              "              title=\"Convert this dataframe to an interactive table.\"\n",
              "              style=\"display:none;\">\n",
              "        \n",
              "  <svg xmlns=\"http://www.w3.org/2000/svg\" height=\"24px\"viewBox=\"0 0 24 24\"\n",
              "       width=\"24px\">\n",
              "    <path d=\"M0 0h24v24H0V0z\" fill=\"none\"/>\n",
              "    <path d=\"M18.56 5.44l.94 2.06.94-2.06 2.06-.94-2.06-.94-.94-2.06-.94 2.06-2.06.94zm-11 1L8.5 8.5l.94-2.06 2.06-.94-2.06-.94L8.5 2.5l-.94 2.06-2.06.94zm10 10l.94 2.06.94-2.06 2.06-.94-2.06-.94-.94-2.06-.94 2.06-2.06.94z\"/><path d=\"M17.41 7.96l-1.37-1.37c-.4-.4-.92-.59-1.43-.59-.52 0-1.04.2-1.43.59L10.3 9.45l-7.72 7.72c-.78.78-.78 2.05 0 2.83L4 21.41c.39.39.9.59 1.41.59.51 0 1.02-.2 1.41-.59l7.78-7.78 2.81-2.81c.8-.78.8-2.07 0-2.86zM5.41 20L4 18.59l7.72-7.72 1.47 1.35L5.41 20z\"/>\n",
              "  </svg>\n",
              "      </button>\n",
              "      \n",
              "  <style>\n",
              "    .colab-df-container {\n",
              "      display:flex;\n",
              "      flex-wrap:wrap;\n",
              "      gap: 12px;\n",
              "    }\n",
              "\n",
              "    .colab-df-convert {\n",
              "      background-color: #E8F0FE;\n",
              "      border: none;\n",
              "      border-radius: 50%;\n",
              "      cursor: pointer;\n",
              "      display: none;\n",
              "      fill: #1967D2;\n",
              "      height: 32px;\n",
              "      padding: 0 0 0 0;\n",
              "      width: 32px;\n",
              "    }\n",
              "\n",
              "    .colab-df-convert:hover {\n",
              "      background-color: #E2EBFA;\n",
              "      box-shadow: 0px 1px 2px rgba(60, 64, 67, 0.3), 0px 1px 3px 1px rgba(60, 64, 67, 0.15);\n",
              "      fill: #174EA6;\n",
              "    }\n",
              "\n",
              "    [theme=dark] .colab-df-convert {\n",
              "      background-color: #3B4455;\n",
              "      fill: #D2E3FC;\n",
              "    }\n",
              "\n",
              "    [theme=dark] .colab-df-convert:hover {\n",
              "      background-color: #434B5C;\n",
              "      box-shadow: 0px 1px 3px 1px rgba(0, 0, 0, 0.15);\n",
              "      filter: drop-shadow(0px 1px 2px rgba(0, 0, 0, 0.3));\n",
              "      fill: #FFFFFF;\n",
              "    }\n",
              "  </style>\n",
              "\n",
              "      <script>\n",
              "        const buttonEl =\n",
              "          document.querySelector('#df-1afe4127-1a94-482a-8295-7211f6cb7c02 button.colab-df-convert');\n",
              "        buttonEl.style.display =\n",
              "          google.colab.kernel.accessAllowed ? 'block' : 'none';\n",
              "\n",
              "        async function convertToInteractive(key) {\n",
              "          const element = document.querySelector('#df-1afe4127-1a94-482a-8295-7211f6cb7c02');\n",
              "          const dataTable =\n",
              "            await google.colab.kernel.invokeFunction('convertToInteractive',\n",
              "                                                     [key], {});\n",
              "          if (!dataTable) return;\n",
              "\n",
              "          const docLinkHtml = 'Like what you see? Visit the ' +\n",
              "            '<a target=\"_blank\" href=https://colab.research.google.com/notebooks/data_table.ipynb>data table notebook</a>'\n",
              "            + ' to learn more about interactive tables.';\n",
              "          element.innerHTML = '';\n",
              "          dataTable['output_type'] = 'display_data';\n",
              "          await google.colab.output.renderOutput(dataTable, element);\n",
              "          const docLink = document.createElement('div');\n",
              "          docLink.innerHTML = docLinkHtml;\n",
              "          element.appendChild(docLink);\n",
              "        }\n",
              "      </script>\n",
              "    </div>\n",
              "  </div>\n",
              "  "
            ]
          },
          "metadata": {},
          "execution_count": 205
        }
      ]
    },
    {
      "cell_type": "markdown",
      "source": [
        "The \"**Mixed**\" media type **performs well** in terms of total impressions, total engagements, and has a decent engagement rate. However, the \"**Photo**\" media type stands out with the **highest engagement rate.** Hence, user spend more time on advertisements which has Photo in it. Generally, pictorial representaion of anything grabs more attention in our day to day life that and applies here too.\n"
      ],
      "metadata": {
        "id": "iVHYCfj3H6eP"
      }
    },
    {
      "cell_type": "markdown",
      "source": [
        "5. **What is our best performing campaign?**"
      ],
      "metadata": {
        "id": "fo5fPdfPIvuB"
      }
    },
    {
      "cell_type": "code",
      "source": [
        "filtered_df.head(10)"
      ],
      "metadata": {
        "colab": {
          "base_uri": "https://localhost:8080/",
          "height": 598
        },
        "id": "hsdGzcYpHBVQ",
        "outputId": "04209342-0a0d-4030-f410-00135213f95f"
      },
      "execution_count": 206,
      "outputs": [
        {
          "output_type": "execute_result",
          "data": {
            "text/plain": [
              "            Published Date  Account Account Type          Campaign Name  \\\n",
              "4  2023-03-31 19:43:42.590     CSGO      TWITTER  Community Engagement    \n",
              "6  2023-03-31 19:40:57.383     CSGO      TWITTER  Community Engagement    \n",
              "7  2023-03-31 19:23:57.349     CSGO      TWITTER  Community Engagement    \n",
              "9  2023-03-31 18:55:51.855     CSGO      TWITTER  Community Engagement    \n",
              "10 2023-03-31 18:36:01.000  General       FBPAGE  Community Engagement    \n",
              "11 2023-03-31 18:30:33.067    DOTA2      TWITTER                   N/A    \n",
              "12 2023-03-31 18:28:16.346    DOTA2      TWITTER                   N/A    \n",
              "13 2023-03-31 18:21:55.727     CSGO      TWITTER  Community Engagement    \n",
              "14 2023-03-31 17:11:28.436  General      TWITTER  Community Engagement    \n",
              "15 2023-03-31 17:09:27.380     CSGO      TWITTER  Community Engagement    \n",
              "\n",
              "    Total Impressions  Total Engagements Media Type  Engagement Rate Weekday  \\\n",
              "4                9517               1215      Video        12.766628  Friday   \n",
              "6                1882                 83      Photo         4.410202  Friday   \n",
              "7               17892               3076      Video        17.192041  Friday   \n",
              "9               13874               1447      Video        10.429581  Friday   \n",
              "10              37692               8044      Photo        21.341399  Friday   \n",
              "11               1013                153       Link        15.103653  Friday   \n",
              "12               4630                339      Photo         7.321814  Friday   \n",
              "13               2289                 41      Photo         1.791175  Friday   \n",
              "14               5216                113       Text         2.166411  Friday   \n",
              "15                841                 13      Photo         1.545779  Friday   \n",
              "\n",
              "    Hour  \n",
              "4     19  \n",
              "6     19  \n",
              "7     19  \n",
              "9     18  \n",
              "10    18  \n",
              "11    18  \n",
              "12    18  \n",
              "13    18  \n",
              "14    17  \n",
              "15    17  "
            ],
            "text/html": [
              "\n",
              "  <div id=\"df-bdaf5c6a-6df6-4c58-92eb-66ba4e72b2d2\">\n",
              "    <div class=\"colab-df-container\">\n",
              "      <div>\n",
              "<style scoped>\n",
              "    .dataframe tbody tr th:only-of-type {\n",
              "        vertical-align: middle;\n",
              "    }\n",
              "\n",
              "    .dataframe tbody tr th {\n",
              "        vertical-align: top;\n",
              "    }\n",
              "\n",
              "    .dataframe thead th {\n",
              "        text-align: right;\n",
              "    }\n",
              "</style>\n",
              "<table border=\"1\" class=\"dataframe\">\n",
              "  <thead>\n",
              "    <tr style=\"text-align: right;\">\n",
              "      <th></th>\n",
              "      <th>Published Date</th>\n",
              "      <th>Account</th>\n",
              "      <th>Account Type</th>\n",
              "      <th>Campaign Name</th>\n",
              "      <th>Total Impressions</th>\n",
              "      <th>Total Engagements</th>\n",
              "      <th>Media Type</th>\n",
              "      <th>Engagement Rate</th>\n",
              "      <th>Weekday</th>\n",
              "      <th>Hour</th>\n",
              "    </tr>\n",
              "  </thead>\n",
              "  <tbody>\n",
              "    <tr>\n",
              "      <th>4</th>\n",
              "      <td>2023-03-31 19:43:42.590</td>\n",
              "      <td>CSGO</td>\n",
              "      <td>TWITTER</td>\n",
              "      <td>Community Engagement</td>\n",
              "      <td>9517</td>\n",
              "      <td>1215</td>\n",
              "      <td>Video</td>\n",
              "      <td>12.766628</td>\n",
              "      <td>Friday</td>\n",
              "      <td>19</td>\n",
              "    </tr>\n",
              "    <tr>\n",
              "      <th>6</th>\n",
              "      <td>2023-03-31 19:40:57.383</td>\n",
              "      <td>CSGO</td>\n",
              "      <td>TWITTER</td>\n",
              "      <td>Community Engagement</td>\n",
              "      <td>1882</td>\n",
              "      <td>83</td>\n",
              "      <td>Photo</td>\n",
              "      <td>4.410202</td>\n",
              "      <td>Friday</td>\n",
              "      <td>19</td>\n",
              "    </tr>\n",
              "    <tr>\n",
              "      <th>7</th>\n",
              "      <td>2023-03-31 19:23:57.349</td>\n",
              "      <td>CSGO</td>\n",
              "      <td>TWITTER</td>\n",
              "      <td>Community Engagement</td>\n",
              "      <td>17892</td>\n",
              "      <td>3076</td>\n",
              "      <td>Video</td>\n",
              "      <td>17.192041</td>\n",
              "      <td>Friday</td>\n",
              "      <td>19</td>\n",
              "    </tr>\n",
              "    <tr>\n",
              "      <th>9</th>\n",
              "      <td>2023-03-31 18:55:51.855</td>\n",
              "      <td>CSGO</td>\n",
              "      <td>TWITTER</td>\n",
              "      <td>Community Engagement</td>\n",
              "      <td>13874</td>\n",
              "      <td>1447</td>\n",
              "      <td>Video</td>\n",
              "      <td>10.429581</td>\n",
              "      <td>Friday</td>\n",
              "      <td>18</td>\n",
              "    </tr>\n",
              "    <tr>\n",
              "      <th>10</th>\n",
              "      <td>2023-03-31 18:36:01.000</td>\n",
              "      <td>General</td>\n",
              "      <td>FBPAGE</td>\n",
              "      <td>Community Engagement</td>\n",
              "      <td>37692</td>\n",
              "      <td>8044</td>\n",
              "      <td>Photo</td>\n",
              "      <td>21.341399</td>\n",
              "      <td>Friday</td>\n",
              "      <td>18</td>\n",
              "    </tr>\n",
              "    <tr>\n",
              "      <th>11</th>\n",
              "      <td>2023-03-31 18:30:33.067</td>\n",
              "      <td>DOTA2</td>\n",
              "      <td>TWITTER</td>\n",
              "      <td>N/A</td>\n",
              "      <td>1013</td>\n",
              "      <td>153</td>\n",
              "      <td>Link</td>\n",
              "      <td>15.103653</td>\n",
              "      <td>Friday</td>\n",
              "      <td>18</td>\n",
              "    </tr>\n",
              "    <tr>\n",
              "      <th>12</th>\n",
              "      <td>2023-03-31 18:28:16.346</td>\n",
              "      <td>DOTA2</td>\n",
              "      <td>TWITTER</td>\n",
              "      <td>N/A</td>\n",
              "      <td>4630</td>\n",
              "      <td>339</td>\n",
              "      <td>Photo</td>\n",
              "      <td>7.321814</td>\n",
              "      <td>Friday</td>\n",
              "      <td>18</td>\n",
              "    </tr>\n",
              "    <tr>\n",
              "      <th>13</th>\n",
              "      <td>2023-03-31 18:21:55.727</td>\n",
              "      <td>CSGO</td>\n",
              "      <td>TWITTER</td>\n",
              "      <td>Community Engagement</td>\n",
              "      <td>2289</td>\n",
              "      <td>41</td>\n",
              "      <td>Photo</td>\n",
              "      <td>1.791175</td>\n",
              "      <td>Friday</td>\n",
              "      <td>18</td>\n",
              "    </tr>\n",
              "    <tr>\n",
              "      <th>14</th>\n",
              "      <td>2023-03-31 17:11:28.436</td>\n",
              "      <td>General</td>\n",
              "      <td>TWITTER</td>\n",
              "      <td>Community Engagement</td>\n",
              "      <td>5216</td>\n",
              "      <td>113</td>\n",
              "      <td>Text</td>\n",
              "      <td>2.166411</td>\n",
              "      <td>Friday</td>\n",
              "      <td>17</td>\n",
              "    </tr>\n",
              "    <tr>\n",
              "      <th>15</th>\n",
              "      <td>2023-03-31 17:09:27.380</td>\n",
              "      <td>CSGO</td>\n",
              "      <td>TWITTER</td>\n",
              "      <td>Community Engagement</td>\n",
              "      <td>841</td>\n",
              "      <td>13</td>\n",
              "      <td>Photo</td>\n",
              "      <td>1.545779</td>\n",
              "      <td>Friday</td>\n",
              "      <td>17</td>\n",
              "    </tr>\n",
              "  </tbody>\n",
              "</table>\n",
              "</div>\n",
              "      <button class=\"colab-df-convert\" onclick=\"convertToInteractive('df-bdaf5c6a-6df6-4c58-92eb-66ba4e72b2d2')\"\n",
              "              title=\"Convert this dataframe to an interactive table.\"\n",
              "              style=\"display:none;\">\n",
              "        \n",
              "  <svg xmlns=\"http://www.w3.org/2000/svg\" height=\"24px\"viewBox=\"0 0 24 24\"\n",
              "       width=\"24px\">\n",
              "    <path d=\"M0 0h24v24H0V0z\" fill=\"none\"/>\n",
              "    <path d=\"M18.56 5.44l.94 2.06.94-2.06 2.06-.94-2.06-.94-.94-2.06-.94 2.06-2.06.94zm-11 1L8.5 8.5l.94-2.06 2.06-.94-2.06-.94L8.5 2.5l-.94 2.06-2.06.94zm10 10l.94 2.06.94-2.06 2.06-.94-2.06-.94-.94-2.06-.94 2.06-2.06.94z\"/><path d=\"M17.41 7.96l-1.37-1.37c-.4-.4-.92-.59-1.43-.59-.52 0-1.04.2-1.43.59L10.3 9.45l-7.72 7.72c-.78.78-.78 2.05 0 2.83L4 21.41c.39.39.9.59 1.41.59.51 0 1.02-.2 1.41-.59l7.78-7.78 2.81-2.81c.8-.78.8-2.07 0-2.86zM5.41 20L4 18.59l7.72-7.72 1.47 1.35L5.41 20z\"/>\n",
              "  </svg>\n",
              "      </button>\n",
              "      \n",
              "  <style>\n",
              "    .colab-df-container {\n",
              "      display:flex;\n",
              "      flex-wrap:wrap;\n",
              "      gap: 12px;\n",
              "    }\n",
              "\n",
              "    .colab-df-convert {\n",
              "      background-color: #E8F0FE;\n",
              "      border: none;\n",
              "      border-radius: 50%;\n",
              "      cursor: pointer;\n",
              "      display: none;\n",
              "      fill: #1967D2;\n",
              "      height: 32px;\n",
              "      padding: 0 0 0 0;\n",
              "      width: 32px;\n",
              "    }\n",
              "\n",
              "    .colab-df-convert:hover {\n",
              "      background-color: #E2EBFA;\n",
              "      box-shadow: 0px 1px 2px rgba(60, 64, 67, 0.3), 0px 1px 3px 1px rgba(60, 64, 67, 0.15);\n",
              "      fill: #174EA6;\n",
              "    }\n",
              "\n",
              "    [theme=dark] .colab-df-convert {\n",
              "      background-color: #3B4455;\n",
              "      fill: #D2E3FC;\n",
              "    }\n",
              "\n",
              "    [theme=dark] .colab-df-convert:hover {\n",
              "      background-color: #434B5C;\n",
              "      box-shadow: 0px 1px 3px 1px rgba(0, 0, 0, 0.15);\n",
              "      filter: drop-shadow(0px 1px 2px rgba(0, 0, 0, 0.3));\n",
              "      fill: #FFFFFF;\n",
              "    }\n",
              "  </style>\n",
              "\n",
              "      <script>\n",
              "        const buttonEl =\n",
              "          document.querySelector('#df-bdaf5c6a-6df6-4c58-92eb-66ba4e72b2d2 button.colab-df-convert');\n",
              "        buttonEl.style.display =\n",
              "          google.colab.kernel.accessAllowed ? 'block' : 'none';\n",
              "\n",
              "        async function convertToInteractive(key) {\n",
              "          const element = document.querySelector('#df-bdaf5c6a-6df6-4c58-92eb-66ba4e72b2d2');\n",
              "          const dataTable =\n",
              "            await google.colab.kernel.invokeFunction('convertToInteractive',\n",
              "                                                     [key], {});\n",
              "          if (!dataTable) return;\n",
              "\n",
              "          const docLinkHtml = 'Like what you see? Visit the ' +\n",
              "            '<a target=\"_blank\" href=https://colab.research.google.com/notebooks/data_table.ipynb>data table notebook</a>'\n",
              "            + ' to learn more about interactive tables.';\n",
              "          element.innerHTML = '';\n",
              "          dataTable['output_type'] = 'display_data';\n",
              "          await google.colab.output.renderOutput(dataTable, element);\n",
              "          const docLink = document.createElement('div');\n",
              "          docLink.innerHTML = docLinkHtml;\n",
              "          element.appendChild(docLink);\n",
              "        }\n",
              "      </script>\n",
              "    </div>\n",
              "  </div>\n",
              "  "
            ]
          },
          "metadata": {},
          "execution_count": 206
        }
      ]
    },
    {
      "cell_type": "code",
      "source": [
        "average_Engagement_Rate_campaigns =filtered_df.groupby('Campaign Name')['Total Impressions', 'Total Engagements','Engagement Rate'].mean()"
      ],
      "metadata": {
        "id": "dTCe90ljI1TB"
      },
      "execution_count": 207,
      "outputs": []
    },
    {
      "cell_type": "code",
      "source": [
        "sorted_average_Engagement_Rate_campaigns = average_Engagement_Rate_campaigns.sort_values(by='Engagement Rate', ascending=False)"
      ],
      "metadata": {
        "id": "baT6KqLrJHri"
      },
      "execution_count": 208,
      "outputs": []
    },
    {
      "cell_type": "code",
      "source": [
        "sorted_average_Engagement_Rate_campaigns"
      ],
      "metadata": {
        "colab": {
          "base_uri": "https://localhost:8080/",
          "height": 206
        },
        "id": "lZdDkVKzJUYi",
        "outputId": "e6ffb5ad-cd09-4a7e-a7e8-2b5b44e6af5f"
      },
      "execution_count": 209,
      "outputs": [
        {
          "output_type": "execute_result",
          "data": {
            "text/plain": [
              "                       Total Impressions  Total Engagements  Engagement Rate\n",
              "Campaign Name                                                               \n",
              "N/A                          9482.528610        1393.423706       137.745797\n",
              "Community Engagement        18337.159684        1616.416601         6.284858\n",
              "Evergreen                    8252.975155         267.869565         3.510548\n",
              "Evil Exhibited              15902.155807         524.943343         3.190826"
            ],
            "text/html": [
              "\n",
              "  <div id=\"df-96e014d4-1b2b-4dcc-857e-484e6cf20f92\">\n",
              "    <div class=\"colab-df-container\">\n",
              "      <div>\n",
              "<style scoped>\n",
              "    .dataframe tbody tr th:only-of-type {\n",
              "        vertical-align: middle;\n",
              "    }\n",
              "\n",
              "    .dataframe tbody tr th {\n",
              "        vertical-align: top;\n",
              "    }\n",
              "\n",
              "    .dataframe thead th {\n",
              "        text-align: right;\n",
              "    }\n",
              "</style>\n",
              "<table border=\"1\" class=\"dataframe\">\n",
              "  <thead>\n",
              "    <tr style=\"text-align: right;\">\n",
              "      <th></th>\n",
              "      <th>Total Impressions</th>\n",
              "      <th>Total Engagements</th>\n",
              "      <th>Engagement Rate</th>\n",
              "    </tr>\n",
              "    <tr>\n",
              "      <th>Campaign Name</th>\n",
              "      <th></th>\n",
              "      <th></th>\n",
              "      <th></th>\n",
              "    </tr>\n",
              "  </thead>\n",
              "  <tbody>\n",
              "    <tr>\n",
              "      <th>N/A</th>\n",
              "      <td>9482.528610</td>\n",
              "      <td>1393.423706</td>\n",
              "      <td>137.745797</td>\n",
              "    </tr>\n",
              "    <tr>\n",
              "      <th>Community Engagement</th>\n",
              "      <td>18337.159684</td>\n",
              "      <td>1616.416601</td>\n",
              "      <td>6.284858</td>\n",
              "    </tr>\n",
              "    <tr>\n",
              "      <th>Evergreen</th>\n",
              "      <td>8252.975155</td>\n",
              "      <td>267.869565</td>\n",
              "      <td>3.510548</td>\n",
              "    </tr>\n",
              "    <tr>\n",
              "      <th>Evil Exhibited</th>\n",
              "      <td>15902.155807</td>\n",
              "      <td>524.943343</td>\n",
              "      <td>3.190826</td>\n",
              "    </tr>\n",
              "  </tbody>\n",
              "</table>\n",
              "</div>\n",
              "      <button class=\"colab-df-convert\" onclick=\"convertToInteractive('df-96e014d4-1b2b-4dcc-857e-484e6cf20f92')\"\n",
              "              title=\"Convert this dataframe to an interactive table.\"\n",
              "              style=\"display:none;\">\n",
              "        \n",
              "  <svg xmlns=\"http://www.w3.org/2000/svg\" height=\"24px\"viewBox=\"0 0 24 24\"\n",
              "       width=\"24px\">\n",
              "    <path d=\"M0 0h24v24H0V0z\" fill=\"none\"/>\n",
              "    <path d=\"M18.56 5.44l.94 2.06.94-2.06 2.06-.94-2.06-.94-.94-2.06-.94 2.06-2.06.94zm-11 1L8.5 8.5l.94-2.06 2.06-.94-2.06-.94L8.5 2.5l-.94 2.06-2.06.94zm10 10l.94 2.06.94-2.06 2.06-.94-2.06-.94-.94-2.06-.94 2.06-2.06.94z\"/><path d=\"M17.41 7.96l-1.37-1.37c-.4-.4-.92-.59-1.43-.59-.52 0-1.04.2-1.43.59L10.3 9.45l-7.72 7.72c-.78.78-.78 2.05 0 2.83L4 21.41c.39.39.9.59 1.41.59.51 0 1.02-.2 1.41-.59l7.78-7.78 2.81-2.81c.8-.78.8-2.07 0-2.86zM5.41 20L4 18.59l7.72-7.72 1.47 1.35L5.41 20z\"/>\n",
              "  </svg>\n",
              "      </button>\n",
              "      \n",
              "  <style>\n",
              "    .colab-df-container {\n",
              "      display:flex;\n",
              "      flex-wrap:wrap;\n",
              "      gap: 12px;\n",
              "    }\n",
              "\n",
              "    .colab-df-convert {\n",
              "      background-color: #E8F0FE;\n",
              "      border: none;\n",
              "      border-radius: 50%;\n",
              "      cursor: pointer;\n",
              "      display: none;\n",
              "      fill: #1967D2;\n",
              "      height: 32px;\n",
              "      padding: 0 0 0 0;\n",
              "      width: 32px;\n",
              "    }\n",
              "\n",
              "    .colab-df-convert:hover {\n",
              "      background-color: #E2EBFA;\n",
              "      box-shadow: 0px 1px 2px rgba(60, 64, 67, 0.3), 0px 1px 3px 1px rgba(60, 64, 67, 0.15);\n",
              "      fill: #174EA6;\n",
              "    }\n",
              "\n",
              "    [theme=dark] .colab-df-convert {\n",
              "      background-color: #3B4455;\n",
              "      fill: #D2E3FC;\n",
              "    }\n",
              "\n",
              "    [theme=dark] .colab-df-convert:hover {\n",
              "      background-color: #434B5C;\n",
              "      box-shadow: 0px 1px 3px 1px rgba(0, 0, 0, 0.15);\n",
              "      filter: drop-shadow(0px 1px 2px rgba(0, 0, 0, 0.3));\n",
              "      fill: #FFFFFF;\n",
              "    }\n",
              "  </style>\n",
              "\n",
              "      <script>\n",
              "        const buttonEl =\n",
              "          document.querySelector('#df-96e014d4-1b2b-4dcc-857e-484e6cf20f92 button.colab-df-convert');\n",
              "        buttonEl.style.display =\n",
              "          google.colab.kernel.accessAllowed ? 'block' : 'none';\n",
              "\n",
              "        async function convertToInteractive(key) {\n",
              "          const element = document.querySelector('#df-96e014d4-1b2b-4dcc-857e-484e6cf20f92');\n",
              "          const dataTable =\n",
              "            await google.colab.kernel.invokeFunction('convertToInteractive',\n",
              "                                                     [key], {});\n",
              "          if (!dataTable) return;\n",
              "\n",
              "          const docLinkHtml = 'Like what you see? Visit the ' +\n",
              "            '<a target=\"_blank\" href=https://colab.research.google.com/notebooks/data_table.ipynb>data table notebook</a>'\n",
              "            + ' to learn more about interactive tables.';\n",
              "          element.innerHTML = '';\n",
              "          dataTable['output_type'] = 'display_data';\n",
              "          await google.colab.output.renderOutput(dataTable, element);\n",
              "          const docLink = document.createElement('div');\n",
              "          docLink.innerHTML = docLinkHtml;\n",
              "          element.appendChild(docLink);\n",
              "        }\n",
              "      </script>\n",
              "    </div>\n",
              "  </div>\n",
              "  "
            ]
          },
          "metadata": {},
          "execution_count": 209
        }
      ]
    },
    {
      "cell_type": "markdown",
      "source": [
        "1. The campaign with the highest engagement rate is marked as \"N/A\" with an engagement rate of 137.745797. This can be interpreted as the marketing done by influencer or users who have more followers and shared the advertisment through different social media plaforms. \n",
        "Currenlty, influencers is one of best way to increase the reach.\n",
        "\n",
        "2. Among the named campaigns, the \"Community Engagement\" campaign has the highest engagement rate of 6.284858, followed by the \"Evergreen\" campaign with an engagement rate of 3.510548 and the \"Evil Exhibited\" campaign with an engagement rate of 3.190826."
      ],
      "metadata": {
        "id": "LN4oG_HrN43G"
      }
    },
    {
      "cell_type": "markdown",
      "source": [
        "6. Define out a posting strategy for our social channels based on your discoveries."
      ],
      "metadata": {
        "id": "8fxqhMf5QRui"
      }
    },
    {
      "cell_type": "code",
      "source": [
        "social_channels_with_media_type= filtered_df.groupby(['Account Type','Media Type'])['Total Impressions', 'Total Engagements','Engagement Rate'].mean()"
      ],
      "metadata": {
        "id": "ksLiEg3SMU5M"
      },
      "execution_count": 210,
      "outputs": []
    },
    {
      "cell_type": "code",
      "source": [
        "sorted_social_channels_with_media_type = social_channels_with_media_type.sort_values(by='Total Impressions', ascending=False)"
      ],
      "metadata": {
        "id": "SuMM_LjUQqrB"
      },
      "execution_count": 211,
      "outputs": []
    },
    {
      "cell_type": "code",
      "source": [
        "sorted_social_channels_with_media_type"
      ],
      "metadata": {
        "colab": {
          "base_uri": "https://localhost:8080/",
          "height": 676
        },
        "id": "yN6UldqARTZK",
        "outputId": "cceb6d55-9e11-4ddf-e4f3-a817bc34d15a"
      },
      "execution_count": 212,
      "outputs": [
        {
          "output_type": "execute_result",
          "data": {
            "text/plain": [
              "                             Total Impressions  Total Engagements  \\\n",
              "Account Type     Media Type                                         \n",
              "FBPAGE           Video            39510.313953        6530.081395   \n",
              "                 Text             37621.843750        6342.781250   \n",
              "TWITTER          Mixed            36996.800000        2732.800000   \n",
              "FBPAGE           Photo            31618.336538        5809.833333   \n",
              "INSTAGRAM        Photo            22586.500000        1385.785714   \n",
              "                 Carousel         17854.333333         726.777778   \n",
              "TWITTER          Photo            16596.615990         413.799476   \n",
              "INSTAGRAM        Video            14357.478992         325.579832   \n",
              "TWITTER          Video            13427.325444         680.047337   \n",
              "FBPAGE           Link              6416.000000          52.000000   \n",
              "TWITTER          Link              5899.918919          54.351351   \n",
              "                 Text              3745.027668          85.571146   \n",
              "TIKTOK_BUSINESS  Video             3072.848214         168.437500   \n",
              "LINKEDIN_COMPANY Link              2584.000000          64.666667   \n",
              "                 Photo             1960.923077          41.538462   \n",
              "                 Text              1822.333333          14.666667   \n",
              "YOUTUBE          Video             1666.965035          72.223776   \n",
              "LINKEDIN_COMPANY Video             1457.000000          35.500000   \n",
              "FBPAGE           Album               20.000000           8.000000   \n",
              "\n",
              "                             Engagement Rate  \n",
              "Account Type     Media Type                   \n",
              "FBPAGE           Video             15.059735  \n",
              "                 Text              16.324993  \n",
              "TWITTER          Mixed             10.770357  \n",
              "FBPAGE           Photo            323.227846  \n",
              "INSTAGRAM        Photo              4.630355  \n",
              "                 Carousel           3.784294  \n",
              "TWITTER          Photo              3.255727  \n",
              "INSTAGRAM        Video              1.918918  \n",
              "TWITTER          Video              5.744623  \n",
              "FBPAGE           Link               0.810474  \n",
              "TWITTER          Link               3.946132  \n",
              "                 Text               3.385627  \n",
              "TIKTOK_BUSINESS  Video              5.364224  \n",
              "LINKEDIN_COMPANY Link               2.310642  \n",
              "                 Photo              1.934351  \n",
              "                 Text               0.817541  \n",
              "YOUTUBE          Video              4.690586  \n",
              "LINKEDIN_COMPANY Video              2.479645  \n",
              "FBPAGE           Album             40.000000  "
            ],
            "text/html": [
              "\n",
              "  <div id=\"df-c97c96b8-3d40-4adb-8cc6-1d7df6a5370e\">\n",
              "    <div class=\"colab-df-container\">\n",
              "      <div>\n",
              "<style scoped>\n",
              "    .dataframe tbody tr th:only-of-type {\n",
              "        vertical-align: middle;\n",
              "    }\n",
              "\n",
              "    .dataframe tbody tr th {\n",
              "        vertical-align: top;\n",
              "    }\n",
              "\n",
              "    .dataframe thead th {\n",
              "        text-align: right;\n",
              "    }\n",
              "</style>\n",
              "<table border=\"1\" class=\"dataframe\">\n",
              "  <thead>\n",
              "    <tr style=\"text-align: right;\">\n",
              "      <th></th>\n",
              "      <th></th>\n",
              "      <th>Total Impressions</th>\n",
              "      <th>Total Engagements</th>\n",
              "      <th>Engagement Rate</th>\n",
              "    </tr>\n",
              "    <tr>\n",
              "      <th>Account Type</th>\n",
              "      <th>Media Type</th>\n",
              "      <th></th>\n",
              "      <th></th>\n",
              "      <th></th>\n",
              "    </tr>\n",
              "  </thead>\n",
              "  <tbody>\n",
              "    <tr>\n",
              "      <th rowspan=\"2\" valign=\"top\">FBPAGE</th>\n",
              "      <th>Video</th>\n",
              "      <td>39510.313953</td>\n",
              "      <td>6530.081395</td>\n",
              "      <td>15.059735</td>\n",
              "    </tr>\n",
              "    <tr>\n",
              "      <th>Text</th>\n",
              "      <td>37621.843750</td>\n",
              "      <td>6342.781250</td>\n",
              "      <td>16.324993</td>\n",
              "    </tr>\n",
              "    <tr>\n",
              "      <th>TWITTER</th>\n",
              "      <th>Mixed</th>\n",
              "      <td>36996.800000</td>\n",
              "      <td>2732.800000</td>\n",
              "      <td>10.770357</td>\n",
              "    </tr>\n",
              "    <tr>\n",
              "      <th>FBPAGE</th>\n",
              "      <th>Photo</th>\n",
              "      <td>31618.336538</td>\n",
              "      <td>5809.833333</td>\n",
              "      <td>323.227846</td>\n",
              "    </tr>\n",
              "    <tr>\n",
              "      <th rowspan=\"2\" valign=\"top\">INSTAGRAM</th>\n",
              "      <th>Photo</th>\n",
              "      <td>22586.500000</td>\n",
              "      <td>1385.785714</td>\n",
              "      <td>4.630355</td>\n",
              "    </tr>\n",
              "    <tr>\n",
              "      <th>Carousel</th>\n",
              "      <td>17854.333333</td>\n",
              "      <td>726.777778</td>\n",
              "      <td>3.784294</td>\n",
              "    </tr>\n",
              "    <tr>\n",
              "      <th>TWITTER</th>\n",
              "      <th>Photo</th>\n",
              "      <td>16596.615990</td>\n",
              "      <td>413.799476</td>\n",
              "      <td>3.255727</td>\n",
              "    </tr>\n",
              "    <tr>\n",
              "      <th>INSTAGRAM</th>\n",
              "      <th>Video</th>\n",
              "      <td>14357.478992</td>\n",
              "      <td>325.579832</td>\n",
              "      <td>1.918918</td>\n",
              "    </tr>\n",
              "    <tr>\n",
              "      <th>TWITTER</th>\n",
              "      <th>Video</th>\n",
              "      <td>13427.325444</td>\n",
              "      <td>680.047337</td>\n",
              "      <td>5.744623</td>\n",
              "    </tr>\n",
              "    <tr>\n",
              "      <th>FBPAGE</th>\n",
              "      <th>Link</th>\n",
              "      <td>6416.000000</td>\n",
              "      <td>52.000000</td>\n",
              "      <td>0.810474</td>\n",
              "    </tr>\n",
              "    <tr>\n",
              "      <th rowspan=\"2\" valign=\"top\">TWITTER</th>\n",
              "      <th>Link</th>\n",
              "      <td>5899.918919</td>\n",
              "      <td>54.351351</td>\n",
              "      <td>3.946132</td>\n",
              "    </tr>\n",
              "    <tr>\n",
              "      <th>Text</th>\n",
              "      <td>3745.027668</td>\n",
              "      <td>85.571146</td>\n",
              "      <td>3.385627</td>\n",
              "    </tr>\n",
              "    <tr>\n",
              "      <th>TIKTOK_BUSINESS</th>\n",
              "      <th>Video</th>\n",
              "      <td>3072.848214</td>\n",
              "      <td>168.437500</td>\n",
              "      <td>5.364224</td>\n",
              "    </tr>\n",
              "    <tr>\n",
              "      <th rowspan=\"3\" valign=\"top\">LINKEDIN_COMPANY</th>\n",
              "      <th>Link</th>\n",
              "      <td>2584.000000</td>\n",
              "      <td>64.666667</td>\n",
              "      <td>2.310642</td>\n",
              "    </tr>\n",
              "    <tr>\n",
              "      <th>Photo</th>\n",
              "      <td>1960.923077</td>\n",
              "      <td>41.538462</td>\n",
              "      <td>1.934351</td>\n",
              "    </tr>\n",
              "    <tr>\n",
              "      <th>Text</th>\n",
              "      <td>1822.333333</td>\n",
              "      <td>14.666667</td>\n",
              "      <td>0.817541</td>\n",
              "    </tr>\n",
              "    <tr>\n",
              "      <th>YOUTUBE</th>\n",
              "      <th>Video</th>\n",
              "      <td>1666.965035</td>\n",
              "      <td>72.223776</td>\n",
              "      <td>4.690586</td>\n",
              "    </tr>\n",
              "    <tr>\n",
              "      <th>LINKEDIN_COMPANY</th>\n",
              "      <th>Video</th>\n",
              "      <td>1457.000000</td>\n",
              "      <td>35.500000</td>\n",
              "      <td>2.479645</td>\n",
              "    </tr>\n",
              "    <tr>\n",
              "      <th>FBPAGE</th>\n",
              "      <th>Album</th>\n",
              "      <td>20.000000</td>\n",
              "      <td>8.000000</td>\n",
              "      <td>40.000000</td>\n",
              "    </tr>\n",
              "  </tbody>\n",
              "</table>\n",
              "</div>\n",
              "      <button class=\"colab-df-convert\" onclick=\"convertToInteractive('df-c97c96b8-3d40-4adb-8cc6-1d7df6a5370e')\"\n",
              "              title=\"Convert this dataframe to an interactive table.\"\n",
              "              style=\"display:none;\">\n",
              "        \n",
              "  <svg xmlns=\"http://www.w3.org/2000/svg\" height=\"24px\"viewBox=\"0 0 24 24\"\n",
              "       width=\"24px\">\n",
              "    <path d=\"M0 0h24v24H0V0z\" fill=\"none\"/>\n",
              "    <path d=\"M18.56 5.44l.94 2.06.94-2.06 2.06-.94-2.06-.94-.94-2.06-.94 2.06-2.06.94zm-11 1L8.5 8.5l.94-2.06 2.06-.94-2.06-.94L8.5 2.5l-.94 2.06-2.06.94zm10 10l.94 2.06.94-2.06 2.06-.94-2.06-.94-.94-2.06-.94 2.06-2.06.94z\"/><path d=\"M17.41 7.96l-1.37-1.37c-.4-.4-.92-.59-1.43-.59-.52 0-1.04.2-1.43.59L10.3 9.45l-7.72 7.72c-.78.78-.78 2.05 0 2.83L4 21.41c.39.39.9.59 1.41.59.51 0 1.02-.2 1.41-.59l7.78-7.78 2.81-2.81c.8-.78.8-2.07 0-2.86zM5.41 20L4 18.59l7.72-7.72 1.47 1.35L5.41 20z\"/>\n",
              "  </svg>\n",
              "      </button>\n",
              "      \n",
              "  <style>\n",
              "    .colab-df-container {\n",
              "      display:flex;\n",
              "      flex-wrap:wrap;\n",
              "      gap: 12px;\n",
              "    }\n",
              "\n",
              "    .colab-df-convert {\n",
              "      background-color: #E8F0FE;\n",
              "      border: none;\n",
              "      border-radius: 50%;\n",
              "      cursor: pointer;\n",
              "      display: none;\n",
              "      fill: #1967D2;\n",
              "      height: 32px;\n",
              "      padding: 0 0 0 0;\n",
              "      width: 32px;\n",
              "    }\n",
              "\n",
              "    .colab-df-convert:hover {\n",
              "      background-color: #E2EBFA;\n",
              "      box-shadow: 0px 1px 2px rgba(60, 64, 67, 0.3), 0px 1px 3px 1px rgba(60, 64, 67, 0.15);\n",
              "      fill: #174EA6;\n",
              "    }\n",
              "\n",
              "    [theme=dark] .colab-df-convert {\n",
              "      background-color: #3B4455;\n",
              "      fill: #D2E3FC;\n",
              "    }\n",
              "\n",
              "    [theme=dark] .colab-df-convert:hover {\n",
              "      background-color: #434B5C;\n",
              "      box-shadow: 0px 1px 3px 1px rgba(0, 0, 0, 0.15);\n",
              "      filter: drop-shadow(0px 1px 2px rgba(0, 0, 0, 0.3));\n",
              "      fill: #FFFFFF;\n",
              "    }\n",
              "  </style>\n",
              "\n",
              "      <script>\n",
              "        const buttonEl =\n",
              "          document.querySelector('#df-c97c96b8-3d40-4adb-8cc6-1d7df6a5370e button.colab-df-convert');\n",
              "        buttonEl.style.display =\n",
              "          google.colab.kernel.accessAllowed ? 'block' : 'none';\n",
              "\n",
              "        async function convertToInteractive(key) {\n",
              "          const element = document.querySelector('#df-c97c96b8-3d40-4adb-8cc6-1d7df6a5370e');\n",
              "          const dataTable =\n",
              "            await google.colab.kernel.invokeFunction('convertToInteractive',\n",
              "                                                     [key], {});\n",
              "          if (!dataTable) return;\n",
              "\n",
              "          const docLinkHtml = 'Like what you see? Visit the ' +\n",
              "            '<a target=\"_blank\" href=https://colab.research.google.com/notebooks/data_table.ipynb>data table notebook</a>'\n",
              "            + ' to learn more about interactive tables.';\n",
              "          element.innerHTML = '';\n",
              "          dataTable['output_type'] = 'display_data';\n",
              "          await google.colab.output.renderOutput(dataTable, element);\n",
              "          const docLink = document.createElement('div');\n",
              "          docLink.innerHTML = docLinkHtml;\n",
              "          element.appendChild(docLink);\n",
              "        }\n",
              "      </script>\n",
              "    </div>\n",
              "  </div>\n",
              "  "
            ]
          },
          "metadata": {},
          "execution_count": 212
        }
      ]
    },
    {
      "cell_type": "markdown",
      "source": [
        "Based on the analysis of the social media performance data, here is a suggested posting strategy for your social channels:\n",
        "\n",
        "1. Facebook Page (FBPAGE):\n",
        "   - Focus on posting engaging videos, as they have the highest average total impressions and total engagements.\n",
        "   - Consider sharing impactful photos, which also have a high average engagement rate.\n",
        "   - Avoid posting links, as they have a relatively low engagement rate.\n",
        "\n",
        "2. Twitter:\n",
        "   - Emphasize a mix of media types, including mixed content, photos, and videos, as they all have reasonable average engagement rates.\n",
        "   - Pay attention to the performance of links and adjust the posting frequency accordingly, as they have a relatively higher engagement rate compared to other platforms.\n",
        "\n",
        "3. Instagram:\n",
        "   - Prioritize posting high-quality photos, as they have a relatively high average total impressions and engagement rate.\n",
        "   - Explore the potential of sharing engaging videos to increase the variety of content and potentially attract more audience engagement.\n",
        "\n",
        "4. TikTok Business:\n",
        "   - Capitalize on the popularity of videos on TikTok by sharing engaging and attention-grabbing video content.\n",
        "   - Monitor the performance closely and adapt the posting frequency and content strategy based on the engagement rate.\n",
        "\n",
        "5. LinkedIn Company:\n",
        "   - Focus on sharing relevant and informative links, as they have a relatively higher engagement rate on this platform.\n",
        "   - Experiment with video content to increase engagement and diversify the media types.\n",
        "\n",
        "6. YouTube:\n",
        "   - Invest in creating compelling video content to maximize total impressions and engagements on this platform.\n",
        "\n",
        "Lastly, It's important to regularly analyze the performance metrics, monitor audience preferences, and adapt the posting strategy based on the feedback and insights gained from social media ."
      ],
      "metadata": {
        "id": "OFbdGTBveBsF"
      }
    },
    {
      "cell_type": "markdown",
      "source": [
        "7. What suggestions would you give to the social media team if they want to expand their\n",
        "presence (e.g. if our CSGO youtube channel is doing well should we expand to TikTok)?"
      ],
      "metadata": {
        "id": "C4M4QOcygGY0"
      }
    },
    {
      "cell_type": "markdown",
      "source": [
        "Based on the provided data, here are some suggestions for the social media team to expand their presence:\n",
        "\n",
        " 1. Instagram shows decent performance in terms of photo content, with relatively high total impressions. The team can consider investing more in Instagram by creating visually appealing and engaging content, leveraging the platform's strong visual nature.\n",
        "\n",
        " 2. The Facebook page is performing well in terms of total impressions and engagement rate, especially for photo content. To expand their presence on Facebook, the team can continue focusing on photo posts and explore other engaging formats like videos and links.\n",
        "\n",
        " 3. Twitter shows a good engagement rate for mixed media content. The team can continue utilizing Twitter and experiment with different media types to keep the audience engaged. Additionally, they can explore using Twitter for timely and interactive content, such as live updates, polls, and engaging with the gaming community.\n",
        "\n",
        " 4. Expanding to TikTok can be a strategic move. The team can repurpose or create new short-form video content specifically tailored to TikTok's format and audience preferences.\n",
        "\n",
        " 5. The team can leverage the existing successful channels to cross-promote content on other platforms. For example, promoting YouTube videos on Instagram, Twitter, or TikTok can help drive traffic and increase visibility across different platforms.\n",
        "\n",
        "\n",
        "\n"
      ],
      "metadata": {
        "id": "AaMC2Zd0kJIZ"
      }
    }
  ]
}